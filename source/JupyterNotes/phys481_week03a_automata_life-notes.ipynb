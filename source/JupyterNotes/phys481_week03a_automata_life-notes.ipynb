{
 "cells": [
  {
   "cell_type": "markdown",
   "metadata": {},
   "source": [
    "# Phys481 notes - Automata and Life\n",
    "\n",
    "    au·tom·a·ton\n",
    "    noun\n",
    "    plural noun: automata\n",
    "\n",
    "     +a moving mechanical device made in imitation of a human being.\n",
    "    synonyms:\trobot, android, cyborg, droid, bot\n",
    "    \"assembly-line automatons\"\n",
    "\n",
    "     +a machine that performs a function according to a predetermined set of coded instructions, \n",
    "     especially one capable of a range of programmed responses to different circumstances.\n",
    "    \n",
    "    used in similes and comparisons to refer to a person who seems to act in a mechanical or unemotional way."
   ]
  },
  {
   "cell_type": "markdown",
   "metadata": {},
   "source": [
    "## State evolution and transition\n",
    "https://physics.stackexchange.com/questions/223564/what-is-a-state-in-physics\n",
    "\n",
    "Informally speaking, a complete description of a physical system is referred to as its `state`. A complete state of a system provides all the possible information that can be observed about the system, i.e. everything that can be known about the system is contained in the specification of its state.\n",
    "\n",
    "Every physical theory is ultimately based on the three kinds of fundamental postulates:\n",
    "\n",
    "        postulates which defines the way we describe a state of a system.\n",
    "        \n",
    "        postulates which specifies what kind of information about observables, i.e. measurable properties of the system, is contained in the description of its state.\n",
    "\n",
    "        postulates which provides us with laws that govern the time evolution of the system and allows us to predict its future state given the current one."
   ]
  },
  {
   "cell_type": "markdown",
   "metadata": {},
   "source": [
    "### One bit\n",
    "\n",
    "The simplest non-trivial system has a binary state which can be fully specified using a single bit.  Assume that the state can always be correctly determined by applying some error-free measurement process. For a continuous time system the rate of change may have the form\n",
    "\n",
    "  $$ \\frac{d\\Phi}{dt} = D\\left( \\Phi, t \\right) $$\n",
    "  \n",
    "while a discrete time system may be described in terms of transitions from one state to the next\n",
    "  \n",
    "  $$ \\Phi_{i+1} = T\\left( \\Phi_i \\right) $$  "
   ]
  },
  {
   "cell_type": "code",
   "execution_count": 1,
   "metadata": {},
   "outputs": [
    {
     "name": "stdout",
     "output_type": "stream",
     "text": [
      "state 0 transitions to state 0\n",
      "0 -> 0 -> 0 -> 0 -> 0 -> "
     ]
    }
   ],
   "source": [
    "# The least interesting rule: don't change.\n",
    "# A system in state \"0\" remains in state \"0\", \n",
    "# and state \"1\" remains in state \"1\"\n",
    "#\n",
    "# 0 -> 0\n",
    "# 1 -> 1\n",
    "\n",
    "# One way to accomplish this is with a function\n",
    "#\n",
    "def transition_0_1(state):\n",
    "    \"\"\"\n",
    "    \"\"\"\n",
    "    return state\n",
    "\n",
    "# An alternative approach is to define a dict and use it as a \"lookup table\"\n",
    "# to determine what new state we end up in.\n",
    "#\n",
    "lookup = {0:0, 1:1}\n",
    "\n",
    "print( 'state 0 transitions to state', lookup[0])\n",
    "\n",
    "state = 0\n",
    "for indx in range(5):\n",
    "    print( state, end=' -> ' )\n",
    "    state = lookup[state]"
   ]
  },
  {
   "cell_type": "markdown",
   "metadata": {},
   "source": [
    "A system with 2 possible initial states and 2 final states can exhibit 4 different kinds of behavior\n",
    "\n",
    "       1)  no change: 0 -> 0, 1 -> 1\n",
    "       2)  always on: 0 -> 1, 1 -> 1\n",
    "       3)  always off: 0 -> 0, 1 -> 0\n",
    "       4)  alternate: 0 -> 1, 1 -> 0   \n",
    "   "
   ]
  },
  {
   "cell_type": "code",
   "execution_count": 3,
   "metadata": {},
   "outputs": [
    {
     "name": "stdout",
     "output_type": "stream",
     "text": [
      "\n",
      " {0: 0, 1: 1}\n",
      "0 -> 0 -> 0 -> 0 -> 0 ->  \n",
      "1 -> 1 -> 1 -> 1 -> 1 ->  \n",
      "\n",
      " {0: 0, 1: 0}\n",
      "0 -> 0 -> 0 -> 0 -> 0 ->  \n",
      "1 -> 0 -> 0 -> 0 -> 0 ->  \n",
      "\n",
      " {0: 1, 1: 1}\n",
      "0 -> 1 -> 1 -> 1 -> 1 ->  \n",
      "1 -> 1 -> 1 -> 1 -> 1 ->  \n",
      "\n",
      " {0: 1, 1: 0}\n",
      "0 -> 1 -> 0 -> 1 -> 0 ->  \n",
      "1 -> 0 -> 1 -> 0 -> 1 ->  \n"
     ]
    }
   ],
   "source": [
    "# Print all possible binary transitions for both initial conditions.\n",
    "#\n",
    "all_transitions = [ {0:0, 1:1}, {0:0, 1:0}, {0:1, 1:1}, {0:1, 1:0} ]  \n",
    "\n",
    "for lookup in all_transitions: \n",
    "    print( '\\n', lookup )\n",
    "    for state in [0,1]:\n",
    "        for indx in range(5):\n",
    "            print( state, end=' -> ' )\n",
    "            state = lookup[state]\n",
    "        print(' ')"
   ]
  },
  {
   "cell_type": "markdown",
   "metadata": {},
   "source": [
    "## Part 1d: Cellular automata\n",
    "\n",
    "Read at least the first link:\n",
    "\n",
    "    https://en.wikipedia.org/wiki/Cellular_automaton\n",
    "\n",
    "    http://natureofcode.com/book/chapter-7-cellular-automata\n",
    "    \n",
    "    https://plato.stanford.edu/entries/cellular-automata/index.html\n",
    "\n",
    "in order to understand how to construct, calculate, and classify basic 1-dimensional \"Wolfram\" automata.\n",
    "\n",
    "[Task \\#1.1] Write a program to generate a sequence for a 1-dimensional automaton with $N=64$ grid cells and arbitrary rules eg.\n",
    "\n",
    "    ncells = 64\n",
    "    state = np.zeros(ncells, dtype=np.int8 ) \n",
    "    state[ncells//2] = 1  # initialize one cell near the middle\n",
    "  \n",
    "    nsteps = 999\n",
    "    for i in range(1,nsteps):\n",
    "        state = cellular_step( state, rule=18)\n",
    "\n",
    "[Task \\#1.2]  Determine which 5 rules appear to be most random by estimating steady-state entropy after taking many (50+) \"warm-up\" or \"burn-in\" steps.\n",
    "\n",
    "[Task \\#1.3]  Write a function to generate a pseudorandom sequence of 64-bit integers based on a cellular automaton using the highest entropy rule.\n",
    "  \n",
    "Optional: read more about other examples and applications of cellular automata:  \n",
    "  \n",
    "    https://en.wikipedia.org/wiki/Nagel%E2%80%93Schreckenberg_model\n",
    "  \n",
    "    http://mathworld.wolfram.com/WireWorld.html    "
   ]
  },
  {
   "cell_type": "code",
   "execution_count": 4,
   "metadata": {},
   "outputs": [],
   "source": [
    "import numpy as np\n",
    "import matplotlib.pyplot as plt\n",
    "%matplotlib inline\n",
    "#%matplotlib notebook\n",
    "\n",
    "#import seaborn as sns\n",
    "#sns.set(palette=\"bright\")"
   ]
  },
  {
   "cell_type": "markdown",
   "metadata": {},
   "source": [
    "### decimal to binary\n",
    "\n",
    "There are several different ways of converting a decimal integer into a binary representation.  Perhaps the most obvious is \"np.unpackbits\" which returns a list of 0's and 1's.  The \"np.binary_repr\" function returns a string, as does \"str.format\" and the built-in \"bin\" function (although more work may be required to ensure leading 0's).\n",
    "\n",
    "In the unlikely event that this operation becomes a computational bottleneck, we should probably use the \"bin\" method.  \n",
    "\n",
    "Note: converting a string to a list of individual characters can be done with something like this:\n",
    "\n",
    "        blist = []*len(s)           # make a list of empty elements\n",
    "        for i,b in enumerate(s):\n",
    "            blist[-i] = b\n",
    "\n",
    "or:\n",
    "\n",
    "        blist = []\n",
    "        for b in s[::-1]:\n",
    "            blist.append(b)\n",
    "\n",
    "or:\n",
    "\n",
    "        blist = [b for b in s][::-1] "
   ]
  },
  {
   "cell_type": "code",
   "execution_count": 5,
   "metadata": {},
   "outputs": [
    {
     "name": "stdout",
     "output_type": "stream",
     "text": [
      "[0 1 1 0 1 1 1 0]\n",
      "440 µs ± 1.21 µs per loop (mean ± std. dev. of 7 runs, 1000 loops each)\n"
     ]
    }
   ],
   "source": [
    "rule_number = 110\n",
    "dec2bin = lambda x: np.unpackbits( np.uint8(x) )\n",
    "print( dec2bin(rule_number) ) \n",
    "%timeit [dec2bin(rule_number) for rule_number in range(256)]"
   ]
  },
  {
   "cell_type": "code",
   "execution_count": 6,
   "metadata": {},
   "outputs": [
    {
     "name": "stdout",
     "output_type": "stream",
     "text": [
      "01101110\n",
      "214 µs ± 469 ns per loop (mean ± std. dev. of 7 runs, 1000 loops each)\n"
     ]
    }
   ],
   "source": [
    "dec2bin = lambda x: np.binary_repr(x, width=8)\n",
    "print( dec2bin(rule_number) ) \n",
    "%timeit [dec2bin(rule_number) for rule_number in range(256)]"
   ]
  },
  {
   "cell_type": "code",
   "execution_count": 7,
   "metadata": {},
   "outputs": [
    {
     "name": "stdout",
     "output_type": "stream",
     "text": [
      "01101110\n",
      "93.1 µs ± 856 ns per loop (mean ± std. dev. of 7 runs, 10000 loops each)\n"
     ]
    }
   ],
   "source": [
    "dec2bin = lambda x: '{:08b}'.format(x)\n",
    "print( dec2bin(rule_number) ) \n",
    "%timeit [dec2bin(rule_number) for rule_number in range(256)]"
   ]
  },
  {
   "cell_type": "code",
   "execution_count": 8,
   "metadata": {},
   "outputs": [
    {
     "name": "stdout",
     "output_type": "stream",
     "text": [
      "0b1101110\n",
      "39.1 µs ± 118 ns per loop (mean ± std. dev. of 7 runs, 10000 loops each)\n"
     ]
    }
   ],
   "source": [
    "dec2bin = lambda x:  bin(rule_number)\n",
    "print( dec2bin(rule_number) ) \n",
    "%timeit [dec2bin(rule_number) for rule_number in range(256)]"
   ]
  },
  {
   "cell_type": "code",
   "execution_count": 9,
   "metadata": {},
   "outputs": [
    {
     "name": "stdout",
     "output_type": "stream",
     "text": [
      "01101110\n",
      "76.7 µs ± 157 ns per loop (mean ± std. dev. of 7 runs, 10000 loops each)\n"
     ]
    }
   ],
   "source": [
    "dec2bin = lambda x:  bin(rule_number)[2:].zfill(8)\n",
    "print( dec2bin(rule_number) ) \n",
    "%timeit [dec2bin(rule_number) for rule_number in range(256)]"
   ]
  },
  {
   "cell_type": "markdown",
   "metadata": {},
   "source": [
    "### 3-bit lookup\n",
    "\n",
    "Working with 1-dimensional \"Wolfram-type\" CA requires that we use 3-bits (left,middle,right) to determine the outcome of applying a given rule.\n",
    "\n",
    "One way is to use a \"dict\" indexed by a tuple containing the three bits.  Another would be to convert the tuple into an integer in the range 0-7 and use that to index a list. Perhaps the simplest and fastest approach is based on numpy array indexing, which is shown in more detail below."
   ]
  },
  {
   "cell_type": "code",
   "execution_count": 10,
   "metadata": {},
   "outputs": [
    {
     "name": "stdout",
     "output_type": "stream",
     "text": [
      "600 ns ± 2.18 ns per loop (mean ± std. dev. of 7 runs, 1000000 loops each)\n",
      "[0, 1, 1, 0, 1, 1, 1, 0]\n"
     ]
    }
   ],
   "source": [
    "blist = np.unpackbits( np.uint8(rule_number) )\n",
    "\n",
    "truple = [(0,0,0), (0,0,1), (0,1,0), (0,1,1), (1,0,0), (1,0,1), (1,1,0), (1,1,1)]\n",
    "\n",
    "# we can generate an index to go with each value of a loop\n",
    "#\n",
    "lookup_dict = {}\n",
    "for indx,lmr in zip(range(8),truple):\n",
    "    lookup_dict[lmr] = blist[indx]\n",
    "\n",
    "# or use enumerate to do the same thing automatically\n",
    "#\n",
    "lookup_dict = {}\n",
    "for indx,lmr in enumerate(truple):\n",
    "    lookup_dict[lmr] = blist[indx]\n",
    "\n",
    "\n",
    "%timeit x = [ lookup_dict[i] for i in truple]\n",
    "print([ lookup_dict[i] for i in truple] )"
   ]
  },
  {
   "cell_type": "code",
   "execution_count": 11,
   "metadata": {},
   "outputs": [
    {
     "name": "stdout",
     "output_type": "stream",
     "text": [
      "672 ns ± 6.56 ns per loop (mean ± std. dev. of 7 runs, 1000000 loops each)\n"
     ]
    }
   ],
   "source": [
    "blist = np.unpackbits( np.uint8(rule_number) )\n",
    "\n",
    "lookup_list = [None]*8\n",
    "for indx in range(8):\n",
    "    lookup_list[indx] = blist[indx]\n",
    "    \n",
    "%timeit [lookup_list[i] for i in range(8)]"
   ]
  },
  {
   "cell_type": "code",
   "execution_count": 13,
   "metadata": {},
   "outputs": [
    {
     "name": "stdout",
     "output_type": "stream",
     "text": [
      "1.91 µs ± 16.1 ns per loop (mean ± std. dev. of 7 runs, 1000000 loops each)\n",
      "1.93 µs ± 14.3 ns per loop (mean ± std. dev. of 7 runs, 1000000 loops each)\n",
      "801 ns ± 2.9 ns per loop (mean ± std. dev. of 7 runs, 1000000 loops each)\n"
     ]
    }
   ],
   "source": [
    "blist = np.unpackbits( np.uint8(rule_number) )\n",
    "lookup_array = np.array( blist, dtype=np.uint8 )\n",
    "indx = np.arange(8,dtype=np.uint8)\n",
    "\n",
    "%timeit x = [blist[i] for i in indx]\n",
    "%timeit x = [lookup_array[i] for i in indx]\n",
    "%timeit x = lookup_array[indx]"
   ]
  },
  {
   "cell_type": "markdown",
   "metadata": {},
   "source": [
    "### numpy array indexing\n",
    "\n",
    "We can select individual elements from a list\n",
    "\n",
    "    list( [1,2,3,3] ) [1]\n",
    "    \n",
    "or a range of elements\n",
    "\n",
    "    list( [1,2,3,3] ) [1:3]\n",
    "    \n",
    "Numpy arrays can be acessed in the same way.  However, there are some other ways to select elements. Using a list or array of index values will result in a new array that is the same size as the index.  Each element will be the corresponding element of the original array. "
   ]
  },
  {
   "cell_type": "code",
   "execution_count": 14,
   "metadata": {},
   "outputs": [
    {
     "name": "stdout",
     "output_type": "stream",
     "text": [
      "range(0, 9)\n",
      "0\n",
      "[0 1 2 3 4 5 6 7 8]\n",
      "0\n",
      "[0 2]\n",
      "[0 2 6 7]\n",
      "[0 2 0 4 0 6 0 8]\n"
     ]
    }
   ],
   "source": [
    "x = range(9) ; print(x)\n",
    "print(x[0])\n",
    "# print(x[0,2])\n",
    "# print(x[ [0,2] ])\n",
    "\n",
    "x = np.array(range(9)) ; print(x)\n",
    "print(x[0])\n",
    "#print(x[0,2])\n",
    "print(x[ [0,2] ])\n",
    "print(x[ [0,2,6,7] ])\n",
    "print(x[ [0,2,0,4,0,6,0,8] ])"
   ]
  },
  {
   "cell_type": "markdown",
   "metadata": {},
   "source": [
    "## Example: cellular automata single step"
   ]
  },
  {
   "cell_type": "code",
   "execution_count": 15,
   "metadata": {},
   "outputs": [],
   "source": [
    "def cellular_step(value, rule_number=110):\n",
    "    \"\"\"You are welcome to use this code, but you must explain\n",
    "    how it works.  Otherwise you will need to write your own.\n",
    "    \n",
    "    Debugging is twice as hard as writing the code in the first place. \n",
    "    Therefore, if you write the code as cleverly as possible, you are, \n",
    "    by definition, not smart enough to debug it.\n",
    "    https://www.linusakesson.net/programming/kernighans-lever/index.php    \n",
    "    \"\"\"\n",
    "    lookup = np.unpackbits( np.uint8(rule_number) )[::-1]\n",
    "    triple = np.roll(value,+1)*4 + value*2 + np.roll(value,-1)\n",
    "    \n",
    "    return lookup[triple]"
   ]
  },
  {
   "cell_type": "markdown",
   "metadata": {},
   "source": [
    "## Example: cellular automata"
   ]
  },
  {
   "cell_type": "code",
   "execution_count": 16,
   "metadata": {},
   "outputs": [
    {
     "data": {
      "text/plain": [
       "Text(0.5, 1.0, 'CA rule 110')"
      ]
     },
     "execution_count": 16,
     "metadata": {},
     "output_type": "execute_result"
    },
    {
     "data": {
      "image/png": "[encoded data removed]",
      "text/plain": [
       "<Figure size 432x288 with 1 Axes>"
      ]
     },
     "metadata": {
      "needs_background": "light"
     },
     "output_type": "display_data"
    }
   ],
   "source": [
    "value = np.zeros(320, dtype=np.int8)\n",
    "value[ len(value)//2 ] = 1\n",
    "\n",
    "nsteps = 360\n",
    "grid = np.ndarray( [nsteps, len(value)], dtype=np.int8)\n",
    "for n in range(nsteps):\n",
    "    value = cellular_step(value, rule_number=60)\n",
    "    grid[n,:] = value\n",
    "    \n",
    "plt.imshow(grid)\n",
    "plt.grid(False)\n",
    "plt.xlabel('cell number')\n",
    "plt.ylabel('step number')\n",
    "plt.title('CA rule 110')"
   ]
  },
  {
   "cell_type": "code",
   "execution_count": 17,
   "metadata": {},
   "outputs": [
    {
     "name": "stdout",
     "output_type": "stream",
     "text": [
      " "
     ]
    }
   ],
   "source": [
    "# the '%prun' magic ipython command runs a profiler to obtain run times \n",
    "# for a function and all of the functions it calls and so on.  Note that \n",
    "# unlike '%timeit' the main command is only called once.  Since results \n",
    "# may not be very accurate for very fast functions, it may be helpful to\n",
    "# apply to a loop of tens, or hundreds, or thousands of calls.\n",
    "#\n",
    "nsteps = 9999\n",
    "%prun for n in range(nsteps): value = cellular_step(value, rule_number=60)"
   ]
  },
  {
   "cell_type": "markdown",
   "metadata": {},
   "source": [
    "## Part 2d: The game of life\n",
    "\n",
    "Read this Wikipedia page: https://en.wikipedia.org/wiki/Conway%27s_Game_of_Life\n",
    "\n",
    "Read the python file in D2L: phys481_game-of-life.py\n",
    "and work your way through different implementations of the algorithm in stepper0, stepper1...\n",
    "and play around with the results.\n",
    "\n",
    "[Task \\#2.1] Examine the steady-state (long time) behaviour for an initial configuration with 1/2 the cells randomly turned on ($p=0.5$).\n",
    "Calculate mean & standard deviation for at least 3 runs to estimate uncertainty.\n",
    "\n",
    "[Task \\#2.2] Examine the steady-state behaviour for a range of initial random densities from $p=0$ to $p=1$."
   ]
  },
  {
   "cell_type": "markdown",
   "metadata": {},
   "source": [
    "## import resources\n",
    "\n",
    "The \"import\" command loads collections of code that are not part of the core python distribution.  We have used this to obtain plotting tools from matplotlib.pyplot and numerical tools from numpy.\n",
    "\n",
    "For example, assume that the file \"phys481_game_of_life.py\" contains a bunch of useful python code.  Calling the import command will execute all the code in that file exactly as if we ran it from a Jupyter cell.  This can be used to define functions without displaying large amounts of code in the notebook and resulting documents."
   ]
  },
  {
   "cell_type": "code",
   "execution_count": 18,
   "metadata": {},
   "outputs": [
    {
     "name": "stdout",
     "output_type": "stream",
     "text": [
      "included by:  FrameInfo(frame=<frame at 0x000001CA2BC96170, file '<frozen importlib._bootstrap>', line 219, code _call_with_frames_removed>, filename='<frozen importlib._bootstrap>', lineno=219, function='_call_with_frames_removed', code_context=None, index=None)\n",
      "<function stepper0 at 0x000001CA2D60F4C0>\n",
      "<function stepper0 at 0x000001CA2D60F4C0>\n"
     ]
    }
   ],
   "source": [
    "import phys481_game_of_life as lifelib\n",
    "print( lifelib.stepper0 )\n",
    "\n",
    "from phys481_game_of_life import stepper0 as myteststepper\n",
    "print( myteststepper )"
   ]
  },
  {
   "cell_type": "markdown",
   "metadata": {},
   "source": [
    "## \\_\\_name\\_\\_ == \\_\\_main\\_\\_\n",
    "\n",
    "Calling \"import\" will automatically execute everything in a python file, even if we only want to import a single function.  Sometimes this is inconvenient.  For example, when writing and debugging a library we might want to run some tests or generate some plots to confirm that everything is working correctly.  However, some other user may want to import our library without running our diagnostic code.\n",
    "\n",
    "One way to accomplish this might be to have some comments containing the test code.  We could uncomment it whenever we want to check that everything is okay, then turn it back into a comment when we were done.  This is a bit tedious and could cause problems if the code was imported while we were working on it.\n",
    "\n",
    "A better solution is to check whether the file is being run directly or as part of an import command.  This can be done by looking at the \\_\\_name\\_\\_ system variable which will only be set to \\_\\_main\\_\\_ if the file is *not* being imported."
   ]
  },
  {
   "cell_type": "code",
   "execution_count": 19,
   "metadata": {},
   "outputs": [],
   "source": [
    "# The ipython %load magic command will import code and also show it in a notebook code cell.\n",
    "#\n",
    "# %load -s stepper0 phys481_game_of_life.py\n",
    "def stepper0(grid, nsteps=1, plot=None):\n",
    "    \"\"\"\n",
    "    One step in Conway's game of life with wrap-around edges.\n",
    "    \n",
    "    Loop over all pixels in grid, and over all neighbors (very slow)\n",
    "    \"\"\"\n",
    "    \n",
    "    nx, ny = grid.shape\n",
    "    xx, yy =  np.arange(nx), np.arange(ny) \n",
    "    newgrid = grid.copy()\n",
    "    \n",
    "    for x in xx:\n",
    "        for y in yy:\n",
    "            \n",
    "            nnear = 0  # count number of neighbors\n",
    "            \n",
    "            for dx in [-1,0,1]:\n",
    "                for dy in [-1,0,1]:\n",
    "                    if (dx!=0 or dy!=0):  # don't include the cell itself\n",
    "                        nnear += grid[ (x+dx)%nx, (y+dy)%ny ]\n",
    "\n",
    "            # dead cells with three live neighbours become live cells\n",
    "            if (grid[x,y] == 0):\n",
    "                if nnear == 3:\n",
    "                    newgrid[x,y]=1\n",
    "\n",
    "            # live cells with fewer than two or more than 3 live neighbors die\n",
    "            else:\n",
    "                if nnear < 2:\n",
    "                    newgrid[x,y]=0\n",
    "                if nnear >3 :\n",
    "                    newgrid[x,y]=0\n",
    "                                                            \n",
    "    return newgrid\n"
   ]
  },
  {
   "cell_type": "code",
   "execution_count": 20,
   "metadata": {},
   "outputs": [
    {
     "name": "stdout",
     "output_type": "stream",
     "text": [
      "__main__\n"
     ]
    }
   ],
   "source": [
    "print( __name__ )"
   ]
  },
  {
   "cell_type": "code",
   "execution_count": 21,
   "metadata": {
    "scrolled": true
   },
   "outputs": [
    {
     "name": "stderr",
     "output_type": "stream",
     "text": [
      "C:\\Users\\bjackel\\Dropbox\\teach\\physx81\\phys481\\jupyter\\phys481_game_of_life.py:243: UserWarning: Matplotlib is currently using module://matplotlib_inline.backend_inline, which is a non-GUI backend, so cannot show the figure.\n",
      "  self.fig.show()\n"
     ]
    },
    {
     "data": {
      "text/plain": [
       "(<matplotlib.image.AxesImage at 0x1ca2d712220>,)"
      ]
     },
     "execution_count": 21,
     "metadata": {},
     "output_type": "execute_result"
    },
    {
     "data": {
      "image/png": "[encoded data removed]",
      "text/plain": [
       "<Figure size 432x288 with 1 Axes>"
      ]
     },
     "metadata": {
      "needs_background": "light"
     },
     "output_type": "display_data"
    }
   ],
   "source": [
    "import phys481_game_of_life as mylife\n",
    "#from phys481_game_of_life import LifeGrid\n",
    "\n",
    "test = mylife.LifeGrid()\n",
    "test.step()\n",
    "test._animate_init() \n",
    "#for i in range(9):\n",
    "#    test._animate_step()"
   ]
  },
  {
   "cell_type": "code",
   "execution_count": 22,
   "metadata": {
    "scrolled": true
   },
   "outputs": [
    {
     "data": {
      "text/plain": [
       "['__class__',\n",
       " '__delattr__',\n",
       " '__dict__',\n",
       " '__dir__',\n",
       " '__doc__',\n",
       " '__eq__',\n",
       " '__format__',\n",
       " '__ge__',\n",
       " '__getattribute__',\n",
       " '__gt__',\n",
       " '__hash__',\n",
       " '__init__',\n",
       " '__init_subclass__',\n",
       " '__le__',\n",
       " '__lt__',\n",
       " '__module__',\n",
       " '__ne__',\n",
       " '__new__',\n",
       " '__reduce__',\n",
       " '__reduce_ex__',\n",
       " '__repr__',\n",
       " '__setattr__',\n",
       " '__sizeof__',\n",
       " '__str__',\n",
       " '__subclasshook__',\n",
       " '__weakref__',\n",
       " '_animate_init',\n",
       " '_animate_step',\n",
       " 'animate_HTML',\n",
       " 'ax',\n",
       " 'fig',\n",
       " 'grid',\n",
       " 'plt',\n",
       " 'step',\n",
       " 'stepnum']"
      ]
     },
     "execution_count": 22,
     "metadata": {},
     "output_type": "execute_result"
    }
   ],
   "source": [
    "dir( test )"
   ]
  },
  {
   "cell_type": "code",
   "execution_count": 23,
   "metadata": {},
   "outputs": [
    {
     "data": {
      "text/plain": [
       "<matplotlib.image.AxesImage at 0x1ca2d78b760>"
      ]
     },
     "execution_count": 23,
     "metadata": {},
     "output_type": "execute_result"
    },
    {
     "data": {
      "image/png": "[encoded data removed]",
      "text/plain": [
       "<Figure size 432x288 with 1 Axes>"
      ]
     },
     "metadata": {
      "needs_background": "light"
     },
     "output_type": "display_data"
    }
   ],
   "source": [
    "plt.imshow( test.grid )"
   ]
  },
  {
   "cell_type": "code",
   "execution_count": 24,
   "metadata": {
    "scrolled": false
   },
   "outputs": [
    {
     "data": {
      "text/plain": [
       "<matplotlib.image.AxesImage at 0x1ca2d7d7e20>"
      ]
     },
     "execution_count": 24,
     "metadata": {},
     "output_type": "execute_result"
    },
    {
     "data": {
      "image/png": "[encoded data removed]",
      "text/plain": [
       "<Figure size 432x288 with 1 Axes>"
      ]
     },
     "metadata": {
      "needs_background": "light"
     },
     "output_type": "display_data"
    }
   ],
   "source": [
    "test.step() ; plt.imshow(test.grid )"
   ]
  }
 ],
 "metadata": {
  "anaconda-cloud": {},
  "kernelspec": {
   "display_name": "Python 3",
   "language": "python",
   "name": "python3"
  },
  "language_info": {
   "codemirror_mode": {
    "name": "ipython",
    "version": 3
   },
   "file_extension": ".py",
   "mimetype": "text/x-python",
   "name": "python",
   "nbconvert_exporter": "python",
   "pygments_lexer": "ipython3",
   "version": "3.8.5"
  }
 },
 "nbformat": 4,
 "nbformat_minor": 2
}
