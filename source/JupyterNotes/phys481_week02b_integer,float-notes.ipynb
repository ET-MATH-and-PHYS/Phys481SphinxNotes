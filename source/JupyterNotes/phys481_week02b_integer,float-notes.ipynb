{
 "cells": [
  {
   "cell_type": "markdown",
   "metadata": {},
   "source": [
    "# Numbers: integers, fixed point and floating point\n",
    "#### phys481_week02b_integer,float-notes\n",
    "\n",
    "## Introduction\n",
    "\n",
    "Digital computers use binary representation to store integers and real numbers. This can result in some important differences between ideal mathematics and computational results.  A good understanding of numerical representation is important for avoiding unpleasant surprises."
   ]
  },
  {
   "cell_type": "markdown",
   "metadata": {},
   "source": [
    "## Numeric Types — int, float, complex\n",
    "https://docs.python.org/3/library/stdtypes.html#numeric-types-int-float-complex\n",
    "\n",
    "The python core has three distinct numeric types: integers, floating point numbers, and complex numbers. In addition, Booleans are a subtype of integers. Integers have unlimited precision. \n",
    "\n",
    "Floating point numbers are usually implemented using double in C; information about the precision and internal representation of floating point numbers for the machine on which your program is running is available in sys.float_info. \n",
    "\n",
    "Complex numbers have a real and imaginary part, which are each a floating point number. To extract these parts from a complex number z, use z.real and z.imag. (The standard library includes the additional numeric types fractions.Fraction, for rationals, and decimal.Decimal, for floating-point numbers with user-definable precision.)"
   ]
  },
  {
   "cell_type": "markdown",
   "metadata": {},
   "source": [
    "## This should never happen?\n",
    "\n",
    "You might think that the following equations are both trivially obvious and equivalent\n",
    "\n",
    "  $$( 1 + x ) - x = 1$$\n",
    "  \n",
    "  $$( 1 + x ) - 1 = x$$\n",
    "  \n",
    "However, when using floating point math it is easy to find values of $x$ for which these are not true.\n",
    "\n",
    "One consequence of this is that we should never test for floating point equality eg.\n",
    "\n",
    "    if (a==b): # don't do this with floats\n",
    "\n",
    "It is usually a better idea to consider the magnitude of the difference\n",
    "\n",
    "    if np.abs(a-b) <= 1e-6   #  single precision\n",
    "    if np.abs(a-b) <= 1e-15  #  double precision"
   ]
  },
  {
   "cell_type": "code",
   "execution_count": 1,
   "metadata": {},
   "outputs": [
    {
     "name": "stdout",
     "output_type": "stream",
     "text": [
      "True True\n"
     ]
    }
   ],
   "source": [
    "# Check whether simple math identities are\n",
    "# actually valid for given floating point values\n",
    "#\n",
    "import numpy as np\n",
    "\n",
    "def AlwaysTrue1(value):\n",
    "    return (1 + value) - value == 1\n",
    "\n",
    "def AlwaysTrue2(value):\n",
    "    return (1 + value) - 1 == value\n",
    "\n",
    "\n",
    "print( AlwaysTrue1(1), AlwaysTrue2(1) )"
   ]
  },
  {
   "cell_type": "code",
   "execution_count": 67,
   "metadata": {},
   "outputs": [
    {
     "name": "stdout",
     "output_type": "stream",
     "text": [
      "True \t    True \t  0            \t         0.000000000000000000000000000000\n",
      "True \t    True \t  1            \t         1.000000000000000000000000000000\n",
      "True \t    True \t  0.0          \t         0.000000000000000000000000000000\n",
      "True \t    True \t  1.0          \t         1.000000000000000000000000000000\n",
      "True \t    True \t  2.0          \t         2.000000000000000000000000000000\n",
      "True \t    True \t  0.5          \t         0.500000000000000000000000000000\n",
      "True \t    False \t  0.2          \t         0.200000000000000011102230246252\n",
      "True \t    False \t  0.1          \t         0.100000000000000005551115123126\n",
      "True \t    False \t  0.01         \t         0.010000000000000000208166817117\n",
      "False \t    False \t  0.001        \t         0.001000000000000000020816681712\n",
      "True \t    False \t  0.0011       \t         0.001100000000000000066266436782\n",
      "True \t    False \t  0.0001       \t         0.000100000000000000004792173602\n",
      "True \t    False \t  9.11e-31     \t         0.000000000000000000000000000001\n",
      "False \t    False \t  3.1415       \t         3.141500000000000181188397618826\n",
      "False \t    False \t  1.4142135623 \t         1.414213562373095145474621858739\n",
      "False \t    True \t  6.02e+23     \t  601999999999999995805696.000000000000000000000000000000\n"
     ]
    }
   ],
   "source": [
    "valuelist = [0, 1, 0.0, 1.0, 2.0, 0.5, 0.2, 0.1, 0.01, 0.001, 0.0011, 1.0e-4, 9.11e-31, 3.1415, np.sqrt(2), 6.02e23]\n",
    "\n",
    "for value in valuelist:\n",
    "    print( AlwaysTrue1(value), '\\t   ', AlwaysTrue2(value), '\\t ', (str(value)+18*' ')[0:12], '\\t ', '{:39.30f}'.format(value))"
   ]
  },
  {
   "cell_type": "markdown",
   "metadata": {},
   "source": [
    "## Integers and floating point values\n",
    "\n",
    "\n",
    "You should all be familiar with the base-10 representation of integers\n",
    "\n",
    "$$ \n",
    "\\begin{aligned}\n",
    "123 =& 100 + 20 + 3 \\\\[2ex]\n",
    " {} =& 1 \\times 10^2 + 2 \\times 10^1 + 3 \\times 10^0 \\\\\n",
    "\\end{aligned}\n",
    "$$\n",
    "\n",
    "Hopefully you also have some experience working with base-2 (binary) representation\n",
    "\n",
    "$$ \n",
    "\\begin{aligned}\n",
    "123 &= 64 + 32 + 16 + 8 + 2 + 1 \\\\[2ex]\n",
    "    &= 1 \\times 2^7 + 1 \\times 2^6 + 1 \\times 2^5 + 1 \\times 2^4 + 1 \\times 2^3 + 0 \\times 2^2 + 1 \\times 2^1 + 1 \\times 2^0 \\\\[2ex]\n",
    "    &= 0b1111011 \\\\\n",
    "\\end{aligned} \n",
    "$$"
   ]
  },
  {
   "cell_type": "code",
   "execution_count": 1,
   "metadata": {},
   "outputs": [],
   "source": [
    "assert( 0b1111011 == 123 )"
   ]
  },
  {
   "cell_type": "markdown",
   "metadata": {},
   "source": [
    "There are several core functions that can convert to integer (base 10), octal (base 8), and hexadecimal (base 16)."
   ]
  },
  {
   "cell_type": "code",
   "execution_count": 3,
   "metadata": {},
   "outputs": [
    {
     "name": "stdout",
     "output_type": "stream",
     "text": [
      "123     \t decimal\n",
      "0b1111011  \t binary\n",
      "0o173    \t octal \n",
      "0x7b    \t hexadecimal\n"
     ]
    }
   ],
   "source": [
    "print( int(123), '    \\t decimal')\n",
    "print( bin(123), ' \\t binary' )\n",
    "print( oct(123), '   \\t octal ' )\n",
    "print( hex(123), '   \\t hexadecimal' )"
   ]
  },
  {
   "cell_type": "markdown",
   "metadata": {},
   "source": [
    "Converting back to decimal is also straightforward"
   ]
  },
  {
   "cell_type": "code",
   "execution_count": 5,
   "metadata": {},
   "outputs": [
    {
     "name": "stdout",
     "output_type": "stream",
     "text": [
      "123\n",
      "123\n",
      "123\n"
     ]
    }
   ],
   "source": [
    "print( 0b1111011 )\n",
    "print( 0o173 )\n",
    "print( 0x7b )"
   ]
  },
  {
   "cell_type": "markdown",
   "metadata": {},
   "source": [
    "Although python is perfectly happy to mix all of these together in one expression, humans are likely to get confused.  Avoid base mixing if possible."
   ]
  },
  {
   "cell_type": "code",
   "execution_count": 6,
   "metadata": {},
   "outputs": [
    {
     "data": {
      "text/plain": [
       "118.0"
      ]
     },
     "execution_count": 6,
     "metadata": {},
     "output_type": "execute_result"
    }
   ],
   "source": [
    "-123 + 2 * 0b1111011 - ( 5 * 0x7b ) / 0o173"
   ]
  },
  {
   "cell_type": "markdown",
   "metadata": {},
   "source": [
    "## Format strings\n",
    "\n",
    "Another way to convert between different bases is with the `format` function.  This requires a format-string and one or more values.  By default, each occurence of \"{}\" in the format-string is replaced with the corresponding value ie.\n",
    "\n",
    "    '{}'.format(1)  -> '1'\n",
    "\n",
    "More complex formatting can also be produced.  For example \"{:09}\" will reserve 9 characters for the value and add zeros on the left to fill any blank space."
   ]
  },
  {
   "cell_type": "code",
   "execution_count": 7,
   "metadata": {},
   "outputs": [
    {
     "name": "stdout",
     "output_type": "stream",
     "text": [
      "123\n",
      "An integer _123_\n",
      "A 9-digit integer _      123_\n",
      "Zero padding _000000123_\n",
      "1:1, 2:fish, 3:0.0\n"
     ]
    }
   ],
   "source": [
    "print( '{}'.format(123) )\n",
    "print( 'An integer _{}_'.format(123) )\n",
    "print( 'A 9-digit integer _{:9}_'.format(123) )\n",
    "print( 'Zero padding _{:09}_'.format(123) )\n",
    "print( '1:{}, 2:{}, 3:{}'.format(1, 'fish', 0.0))"
   ]
  },
  {
   "cell_type": "markdown",
   "metadata": {},
   "source": [
    "Base conversion can be achieved by using the \"{:#}\" code.  The default is \"{:#d}\" for decimal, \"{:#b}\" for binary, \"o\" for octal and \"x\" for hexadecimal."
   ]
  },
  {
   "cell_type": "code",
   "execution_count": 8,
   "metadata": {},
   "outputs": [
    {
     "name": "stdout",
     "output_type": "stream",
     "text": [
      "         123 decimal\n",
      "   0b1111011 binary\n",
      "       0o173 octal\n",
      "        0x7b hexadecimal\n",
      "\n"
     ]
    }
   ],
   "source": [
    "fstring = '{:#12d} decimal\\n{:#12b} binary\\n{:#12o} octal\\n{:#12x} hexadecimal\\n'\n",
    "print( fstring.format( 123, 123, 123, 123 ) )"
   ]
  },
  {
   "cell_type": "markdown",
   "metadata": {},
   "source": [
    "### Built-in functions\n",
    "\n",
    "Note: you should get familiar with this table of functions which are always available in core python:\n",
    "\n",
    "   https://docs.python.org/3/library/functions.html"
   ]
  },
  {
   "cell_type": "markdown",
   "metadata": {},
   "source": [
    "### Unsigned integers\n",
    "\n",
    "Computer memory is always a limited resource, so it is worth thinking about ways to use it efficiently.  Consider some variable that will always be limited to an integer value between 0 and 3 (inclusive). The four possibilities ($0, 1, 2, 3$) can be stored using just two bits\n",
    "\n",
    "     00  ->  0\n",
    "     01  ->  1\n",
    "     10  ->  2\n",
    "     11  ->  3\n",
    "\n",
    "In practice, it is generally easiest to work with multiples of 8 bits (also known as bytes).  A single unsigned byte could contain any number from 0 to 255 $(2^8 -1)$.  Two unsigned bytes can represent any integer in the range 0-65535 $(2^{16}-1)$.  Four unsigned bytes will cover the range from 0 to 4294967295  $(2^{64}-1)$."
   ]
  },
  {
   "cell_type": "markdown",
   "metadata": {},
   "source": [
    "### Signed integers\n",
    "\n",
    "Now consider a set of seven integers from -3 and +3.  We need to add a third \"sign bit\" which indicates whether the number is positive (0) or negative (1).\n",
    "\n",
    "     000  ->  +0\n",
    "     001  ->  +1\n",
    "     010  ->  +2\n",
    "     011  ->  +3\n",
    "     \n",
    "     111  ->  -3 \n",
    "     110  ->  -2\n",
    "     101  ->  -1\n",
    "     100  ->  -0\n",
    "     \n",
    "The last item is arguably redundant since $+0 = -0$.  We could instead use '0b100' to store some other value eg. $-4$ or infinity.    "
   ]
  },
  {
   "cell_type": "markdown",
   "metadata": {},
   "source": [
    "The `numpy.iinfo` function provides information about the range of numbers which can be represented when using different types of integers."
   ]
  },
  {
   "cell_type": "code",
   "execution_count": 9,
   "metadata": {},
   "outputs": [
    {
     "name": "stdout",
     "output_type": "stream",
     "text": [
      "\n",
      " unsigned\n",
      "uint8 0 255\n",
      "uint16 0 65535\n",
      "uint32 0 4294967295\n",
      "uint64 0 18446744073709551615\n",
      "\n",
      " signed\n",
      "int8 -128 127\n",
      "int16 -32768 32767\n",
      "int32 -2147483648 2147483647\n",
      "int64 -9223372036854775808 9223372036854775807\n",
      "\n",
      " synonyms\n",
      "int8 -128 127\n",
      "int32 -2147483648 2147483647\n",
      "int32 -2147483648 2147483647\n",
      "int64 -9223372036854775808 9223372036854775807\n"
     ]
    },
    {
     "name": "stderr",
     "output_type": "stream",
     "text": [
      "<ipython-input-9-e64d79a63e26>:18: DeprecationWarning: `np.int` is a deprecated alias for the builtin `int`. To silence this warning, use `int` by itself. Doing this will not modify any behavior and is safe. When replacing `np.int`, you may wish to use e.g. `np.int64` or `np.int32` to specify the precision. If you wish to review your current use, check the release note link for additional information.\n",
      "Deprecated in NumPy 1.20; for more details and guidance: https://numpy.org/devdocs/release/1.20.0-notes.html#deprecations\n",
      "  '2synonyms':[np.byte, np.int, np.long, np.longlong] }\n",
      "<ipython-input-9-e64d79a63e26>:18: DeprecationWarning: `np.long` is a deprecated alias for `np.compat.long`. To silence this warning, use `np.compat.long` by itself. In the likely event your code does not need to work on Python 2 you can use the builtin `int` for which `np.compat.long` is itself an alias. Doing this will not modify any behaviour and is safe. When replacing `np.long`, you may wish to use e.g. `np.int64` or `np.int32` to specify the precision. If you wish to review your current use, check the release note link for additional information.\n",
      "Deprecated in NumPy 1.20; for more details and guidance: https://numpy.org/devdocs/release/1.20.0-notes.html#deprecations\n",
      "  '2synonyms':[np.byte, np.int, np.long, np.longlong] }\n"
     ]
    }
   ],
   "source": [
    "import numpy as np\n",
    "\n",
    "# this fragment of Python code uses the \"numpy.iinfo\" function to print\n",
    "# the min/max values which can be represented by different integer types.\n",
    "#\n",
    "# Notes:\n",
    "#  1) print('\\n')  # the string '\\n' produces a \"newline\" or carriage return\n",
    "#  2) getattr is a way of asking Python objects what they can do\n",
    "\n",
    "\n",
    "# Make a dictionary where each entry contains a list of different integer types\n",
    "#\n",
    "# Add a number at the front of each entry name so that we can control the\n",
    "# sort order.  We can use \"name[1:]\" to skip the first letter for printing.\n",
    "#\n",
    "itypes = {'0unsigned':[np.uint8, np.uint16, np.uint32, np.uint64], \n",
    "          '1signed':[np.int8, np.int16, np.int32, np.int64], \n",
    "          '2synonyms':[np.byte, np.int, np.long, np.longlong] }\n",
    "        \n",
    "for tname in sorted( itypes.keys() ):\n",
    "    print('\\n', tname[1:])\n",
    "    for itype in itypes[tname]:\n",
    "        iinfo = np.iinfo(itype)\n",
    "        dtype = np.dtype( itype )\n",
    "        name = getattr(dtype, 'name', iinfo.dtype )\n",
    "        print( name, iinfo.min, iinfo.max )"
   ]
  },
  {
   "cell_type": "markdown",
   "metadata": {},
   "source": [
    "### Arbitrary mapping\n",
    "\n",
    "More generally, we can think about a mapping between integers and arbitrary sets of values. For example, we might consider only even values\n",
    "\n",
    "     00  ->  0\n",
    "     01  ->  2\n",
    "     10  ->  4\n",
    "     11  ->  6\n",
    "     \n",
    "or every hundredth value     \n",
    "     \n",
    "     00  ->  0\n",
    "     01  ->  100\n",
    "     10  ->  200\n",
    "     11  ->  300   "
   ]
  },
  {
   "cell_type": "markdown",
   "metadata": {},
   "source": [
    "## Real numbers: fixed point\n",
    "\n",
    "Most physical quantities and calculations require the use of *real* numbers, so we need to think about how these might be represented on digital computers.\n",
    "\n",
    "Given one byte of memory\n",
    "\n",
    " $$ n = 0,\\, 1,\\, 2,\\, \\ldots, 253,\\, 254,\\, 255 $$\n",
    " \n",
    "we can map the sequence of 256 integers to a sequence of 256 real numbers with one significant figure after the decimal place\n",
    " \n",
    " $$ x = \\frac{n}{10} = 0.0,\\, 0.1,\\, 0.2,\\, \\ldots, 25.3,\\, 25.4,\\, 25.5 $$\n",
    " \n",
    "or a shorter sequence with $10\\times$ higher precision\n",
    "\n",
    " $$ x = \\frac{n}{100} = 0.00,\\, 0.01,\\, 0.02,\\, \\ldots, 2.53,\\, 2.54,\\, 2.55 $$\n",
    " \n",
    "There is an unavoidable trade-off between *range* and *resolution*.  If we increase the number of digits after the decimal place, then the maximum possible value will decrease.\n",
    "\n",
    "Another limitation is that we have to pick a single scaling factor (eg. $10$ or $100$) which produces a *fixed* number of decimal places and a fixed upper limit.  This will be a problem when dealing with physical systems that involve both very small and very large quantities (eg. electrons and planets)."
   ]
  },
  {
   "cell_type": "markdown",
   "metadata": {},
   "source": [
    "## IEEE 754 floating point to the rescue\n",
    "\n",
    "https://en.wikipedia.org/wiki/IEEE_754\n",
    "\n",
    "Wikipedia has an excellent summary of floating point representation and is well worth reviewing.  The basic idea is to split the available bits into two groups: a mantissa and an exponent. For example, we could write the base-10 value of $50$ as a pair of values eg. (5,1) or (50,0) or (0.5,2)\n",
    " \n",
    "$$ 50.0 \\times 10^0  \\qquad (50,0) $$   \n",
    "\n",
    "$$ 5.0 \\times 10^1  \\qquad(5,1) $$\n",
    "\n",
    "$$ 0.5 \\times 10^2  \\qquad(0.5,2) $$\n",
    "\n",
    "\n",
    "Single precision floating point values are stored in 32 bits which are allocated as follows\n",
    "\n",
    "    1. sign bit: 1\n",
    "    2. exponent width: 8\n",
    "    3: mantissa: 23 (+1 implicit)"
   ]
  },
  {
   "cell_type": "code",
   "execution_count": 4,
   "metadata": {},
   "outputs": [
    {
     "name": "stdout",
     "output_type": "stream",
     "text": [
      "('+', '1.01000000000000000000000', '2^', 2)\n",
      "('-', '1.00000000000000000000000', '2^', 0)\n"
     ]
    }
   ],
   "source": [
    "import numpy as np\n",
    "\n",
    "def float2binary(value, bits=32):\n",
    "    \"\"\"\n",
    "    Provide binary string represention of single precision float.\n",
    "    \"\"\"\n",
    "    val = np.array(value, dtype=np.float32).view(np.uint32)\n",
    "    fstring = '{:0' + str(bits) + 'b}'\n",
    "    result = fstring.format( int(val) )\n",
    "    signbit, expbits, sigbits = result[0], result[1:9], result[9:]\n",
    "    return ['+','-'][int(signbit)], '1.'+sigbits, '2^', eval('0b'+expbits)-127 \n",
    "    \n",
    "print( float2binary(5) )\n",
    "print( float2binary(-1) )"
   ]
  },
  {
   "cell_type": "code",
   "execution_count": 11,
   "metadata": {},
   "outputs": [
    {
     "name": "stdout",
     "output_type": "stream",
     "text": [
      "('+', '1.00000000000000000000000', '2^', 0)\n",
      "('+', '1.00000000000000000000000', '2^', 1)\n",
      "('+', '1.00000000000000000000000', '2^', 2)\n",
      "('+', '1.00000000000000000000000', '2^', 3)\n",
      "('+', '1.00000000000000000000000', '2^', 4)\n"
     ]
    }
   ],
   "source": [
    "# multiplying by factors of 2 does not change\n",
    "# the mantissa, just the exponent\n",
    "#\n",
    "print( float2binary(1) )\n",
    "print( float2binary(2) )\n",
    "print( float2binary(4) )\n",
    "print( float2binary(8) )\n",
    "print( float2binary(16) )"
   ]
  },
  {
   "cell_type": "code",
   "execution_count": 12,
   "metadata": {},
   "outputs": [
    {
     "name": "stdout",
     "output_type": "stream",
     "text": [
      "('+', '1.00000000000000000000000', '2^', 0)\n",
      "('+', '1.00000000000000000000000', '2^', 1)\n",
      "('+', '1.10000000000000000000000', '2^', 1)\n",
      "('+', '1.00000000000000000000000', '2^', 2)\n",
      "('+', '1.01000000000000000000000', '2^', 2)\n"
     ]
    }
   ],
   "source": [
    "# these results may be surprising until\n",
    "# you remember that the mantissa is binary\n",
    "#\n",
    "print( float2binary(1) )\n",
    "print( float2binary(2) )\n",
    "print( float2binary(3) )\n",
    "print( float2binary(4) )\n",
    "print( float2binary(5) )"
   ]
  },
  {
   "cell_type": "code",
   "execution_count": 9,
   "metadata": {},
   "outputs": [
    {
     "name": "stdout",
     "output_type": "stream",
     "text": [
      "('+', '1.10011001100110011001101', '2^', -4)\n",
      "('+', '1.00001100110011001100110', '2^', 1)\n",
      "('+', '1.00011001100110011001101', '2^', 1)\n"
     ]
    }
   ],
   "source": [
    "print( float2binary(0.1) )\n",
    "print( float2binary(2.1) )\n",
    "print( float2binary(2.2) )"
   ]
  },
  {
   "cell_type": "markdown",
   "metadata": {},
   "source": [
    "### loss of precision\n",
    "\n",
    "Consider a sequence $1+\\epsilon$ where $\\epsilon$ approaches zero.\n",
    "\n",
    "As $\\epsilon$ becomes smaller, the corresponding digits in the binary representation move to the right.\n",
    "\n",
    "When $\\epsilon = 1E-7$ we are using the last digit of the mantissa.  This means that there is no way to store any smaller value, and\n",
    "\n",
    " $$1 + \\epsilon = 1 \\qquad \\epsilon < 10^{-7}$$\n",
    " \n",
    " $$1 + \\epsilon \\neq 1 \\qquad \\epsilon > 10^{-7}$$ "
   ]
  },
  {
   "cell_type": "code",
   "execution_count": 14,
   "metadata": {
    "scrolled": true
   },
   "outputs": [
    {
     "name": "stdout",
     "output_type": "stream",
     "text": [
      "('+', '1.00000000000000001010100', '2^', 0)\n",
      "('+', '1.00000000000000000001000', '2^', 0)\n",
      "('+', '1.00000000000000000000001', '2^', 0)\n",
      "('+', '1.00000000000000000000000', '2^', 0)\n",
      "('+', '1.00000000000000000000000', '2^', 0)\n"
     ]
    }
   ],
   "source": [
    "print( float2binary(1.00001) )\n",
    "print( float2binary(1.000001) )\n",
    "print( float2binary(1.0000001) )\n",
    "print( float2binary(1.00000001) )\n",
    "print( float2binary(1.00000000) )"
   ]
  },
  {
   "cell_type": "markdown",
   "metadata": {},
   "source": [
    "## Resolution and eps\n",
    "\n",
    "We can get a feeling for the size of floating point representation errors as follows:\n",
    "start with some floating point value $x$, convert it to binary, change the last (binary) digit, and convert back to decimal. \n",
    "\n",
    "For single precision (32-bit) we will find that the fractional change will be on the order of 1e-6, while double precision (64-bit) will change by a factor of roughly 1e-15.\n",
    "\n",
    "Or, take several real numbers with relative differences less than 1e-6 and store them as single precision floating point.  Some results will be indistinguishable because many real numbers will map to the same floating point representation."
   ]
  },
  {
   "cell_type": "code",
   "execution_count": 15,
   "metadata": {},
   "outputs": [
    {
     "name": "stdout",
     "output_type": "stream",
     "text": [
      "1.0 00111111100000000000000000000000 1.0\n"
     ]
    }
   ],
   "source": [
    "fval = 1.0\n",
    "bval = '{:032b}'.format( int(np.array(fval,dtype=np.float32).view(np.uint32)) )\n",
    "print( fval, bval, np.array( eval('0b'+bval), dtype=np.uint32).view(np.float32) )"
   ]
  },
  {
   "cell_type": "code",
   "execution_count": 16,
   "metadata": {},
   "outputs": [
    {
     "name": "stdout",
     "output_type": "stream",
     "text": [
      "1.0 00111111100000000000000000000001 1.0000001\n"
     ]
    }
   ],
   "source": [
    "nval = bval[0:-1] + '1'\n",
    "print( fval, nval, np.array( eval('0b'+nval), dtype=np.uint32).view(np.float32) )"
   ]
  },
  {
   "cell_type": "code",
   "execution_count": 17,
   "metadata": {},
   "outputs": [
    {
     "name": "stdout",
     "output_type": "stream",
     "text": [
      "1.0 00111111100000000000000000000000 1.0\n",
      "1.0000001 00111111100000000000000000000001 1.0000001192092896\n",
      "1.0000001 00111111100000000000000000000001 1.0000001\n",
      "1.0000001 00111111100000000000000000000001 1.00000012\n",
      "1.0000001 00111111100000000000000000000001 1.00000009\n"
     ]
    }
   ],
   "source": [
    "for fval in [1.0, 1.0000001192092896, 1.00000010, 1.00000012, 1.00000009]:\n",
    "    bval = '{:032b}'.format( int(np.array(fval,dtype=np.float32).view(np.uint32)) )\n",
    "    print(np.array( eval('0b'+bval), dtype=np.uint32).view(np.float32), bval, fval )"
   ]
  },
  {
   "cell_type": "markdown",
   "metadata": {},
   "source": [
    "A useful summary of floating point properties are provided by `numpy.finfo` as shown below."
   ]
  },
  {
   "cell_type": "code",
   "execution_count": 18,
   "metadata": {
    "scrolled": true
   },
   "outputs": [
    {
     "name": "stdout",
     "output_type": "stream",
     "text": [
      "<class 'numpy.float16'> Machine parameters for float16\n",
      "---------------------------------------------------------------\n",
      "precision =   3   resolution = 1.00040e-03\n",
      "machep =    -10   eps =        9.76562e-04\n",
      "negep =     -11   epsneg =     4.88281e-04\n",
      "minexp =    -14   tiny =       6.10352e-05\n",
      "maxexp =     16   max =        6.55040e+04\n",
      "nexp =        5   min =        -max\n",
      "---------------------------------------------------------------\n",
      "\n",
      "<class 'numpy.float32'> Machine parameters for float32\n",
      "---------------------------------------------------------------\n",
      "precision =   6   resolution = 1.0000000e-06\n",
      "machep =    -23   eps =        1.1920929e-07\n",
      "negep =     -24   epsneg =     5.9604645e-08\n",
      "minexp =   -126   tiny =       1.1754944e-38\n",
      "maxexp =    128   max =        3.4028235e+38\n",
      "nexp =        8   min =        -max\n",
      "---------------------------------------------------------------\n",
      "\n",
      "<class 'numpy.float64'> Machine parameters for float64\n",
      "---------------------------------------------------------------\n",
      "precision =  15   resolution = 1.0000000000000001e-15\n",
      "machep =    -52   eps =        2.2204460492503131e-16\n",
      "negep =     -53   epsneg =     1.1102230246251565e-16\n",
      "minexp =  -1022   tiny =       2.2250738585072014e-308\n",
      "maxexp =   1024   max =        1.7976931348623157e+308\n",
      "nexp =       11   min =        -max\n",
      "---------------------------------------------------------------\n",
      "\n"
     ]
    }
   ],
   "source": [
    "for t in [np.float16, np.float32, np.float64]: print( str(t), np.finfo(t) )"
   ]
  },
  {
   "cell_type": "markdown",
   "metadata": {},
   "source": [
    "### casting and viewing\n",
    "\n",
    "What does it mean to convert from one variable type to another?  Usually we want to \"cast\" values so that the new representation  contains the same information in a new form.  For example, when adding two variables of different types we may \"promote\" integers to floating point values.\n",
    "\n",
    "However, in some cases it may be useful to \"view\" the underlying binary data in a different way."
   ]
  },
  {
   "cell_type": "code",
   "execution_count": 19,
   "metadata": {},
   "outputs": [
    {
     "data": {
      "text/plain": [
       "float"
      ]
     },
     "execution_count": 19,
     "metadata": {},
     "output_type": "execute_result"
    }
   ],
   "source": [
    "type( 1 + 2.3 )"
   ]
  },
  {
   "cell_type": "code",
   "execution_count": 27,
   "metadata": {},
   "outputs": [
    {
     "data": {
      "text/plain": [
       "1"
      ]
     },
     "execution_count": 27,
     "metadata": {},
     "output_type": "execute_result"
    }
   ],
   "source": [
    "np.int32(1.23)"
   ]
  },
  {
   "cell_type": "code",
   "execution_count": 21,
   "metadata": {},
   "outputs": [
    {
     "data": {
      "text/plain": [
       "array(1, dtype=uint32)"
      ]
     },
     "execution_count": 21,
     "metadata": {},
     "output_type": "execute_result"
    }
   ],
   "source": [
    "np.array(1.23,dtype=np.float32).astype(np.uint32)"
   ]
  },
  {
   "cell_type": "code",
   "execution_count": 22,
   "metadata": {},
   "outputs": [
    {
     "data": {
      "text/plain": [
       "array(1067282596, dtype=uint32)"
      ]
     },
     "execution_count": 22,
     "metadata": {},
     "output_type": "execute_result"
    }
   ],
   "source": [
    "np.array(1.23,dtype=np.float32).view(np.uint32)"
   ]
  },
  {
   "cell_type": "code",
   "execution_count": 23,
   "metadata": {
    "scrolled": true
   },
   "outputs": [
    {
     "name": "stdout",
     "output_type": "stream",
     "text": [
      "1065353216\n"
     ]
    },
    {
     "data": {
      "text/plain": [
       "'00111111100000000000000000000000'"
      ]
     },
     "execution_count": 23,
     "metadata": {},
     "output_type": "execute_result"
    }
   ],
   "source": [
    "num = np.array(1.0,dtype=np.float32).view(np.uint32)\n",
    "print( int(num))\n",
    "'{:032b}'.format( int(num) )"
   ]
  },
  {
   "cell_type": "markdown",
   "metadata": {},
   "source": [
    "## numpy is helpful\n",
    "\n",
    "If we carry out some mathematical operation with mixed types, then numpy (and Python) will try very hard to \"do the right thing\".  In this case, it will see that we're combining unsigned and signed integers.  Since the result is negative, numpy will make sure that the result is a signed integer.  It will also try to avoid problems by setting aside more than enough space (ie. 8 bytes).\n",
    "\n",
    "Still, we should try to keep track of things so that we're not surprised when numpy suddenly decides that it needs twice as much memory."
   ]
  },
  {
   "cell_type": "code",
   "execution_count": 28,
   "metadata": {},
   "outputs": [
    {
     "name": "stdout",
     "output_type": "stream",
     "text": [
      "-100 <class 'numpy.int64'>\n"
     ]
    }
   ],
   "source": [
    "x = np.uint32(100) - np.int32(200) \n",
    "print( x, type(x) )"
   ]
  },
  {
   "cell_type": "markdown",
   "metadata": {},
   "source": [
    "## python integers\n",
    "\n",
    "In the python core integers have unlimited precision"
   ]
  },
  {
   "cell_type": "code",
   "execution_count": 25,
   "metadata": {},
   "outputs": [
    {
     "name": "stdout",
     "output_type": "stream",
     "text": [
      "123456789 123456790 123456788 9876543219999999999\n",
      "123456789 9876543219999999999 1219326312345679001126352690 12345678.9 11223344.454545455 8.100000073710001e-09\n",
      "123456789 28679718602997181072337614380936720482949\n"
     ]
    }
   ],
   "source": [
    "value = 123456789\n",
    "print( value, value+1, value-1, value+9876543219876543210, )\n",
    "print( value, value+9876543219876543210, value*9876543219876543210, value/10, value/11, 1/value)\n",
    "print( value, value**5)"
   ]
  },
  {
   "cell_type": "markdown",
   "metadata": {},
   "source": [
    "### mpmath\n",
    "\n",
    "https://mpmath.org/\n",
    "\n",
    "mpmath is a free (BSD licensed) Python library for real and complex floating-point arithmetic with arbitrary precision.\n",
    "\n",
    "As shown below, numpy and mpmath outputs are identical over a range of input values, but for very large arguments numpy the result is smaller than can be stored in a 64-bit float (2.2250738585072014e-308)"
   ]
  },
  {
   "cell_type": "code",
   "execution_count": 68,
   "metadata": {},
   "outputs": [
    {
     "name": "stdout",
     "output_type": "stream",
     "text": [
      " 0.00673794699908547 \t 0.00673794699908547\n",
      "1.92874984796392e-22 \t 1.92874984796392e-22\n",
      "7.12457640674129e-218 \t 7.12457640674129e-218\n",
      "                   0 \t 1.88757769782051e-21715\n"
     ]
    }
   ],
   "source": [
    "import mpmath as mp\n",
    "for value in [-5, -50, -500, -50000]:\n",
    "    print( '{:20.15g}'.format( np.exp(value) ), '\\t', mp.exp(value) )\n"
   ]
  },
  {
   "cell_type": "markdown",
   "metadata": {},
   "source": [
    "Arbitrary precision requires more memory and CPU."
   ]
  },
  {
   "cell_type": "code",
   "execution_count": 80,
   "metadata": {},
   "outputs": [
    {
     "name": "stdout",
     "output_type": "stream",
     "text": [
      "memory according to __sizeof__\n",
      "32\n",
      "40\n",
      "\n",
      " large argument: mpmath is 6x slower\n",
      "891 ns ± 7.77 ns per loop (mean ± std. dev. of 7 runs, 1000000 loops each)\n",
      "5.64 µs ± 65 ns per loop (mean ± std. dev. of 7 runs, 100000 loops each)\n",
      "\n",
      " small argument\n",
      "674 ns ± 6.44 ns per loop (mean ± std. dev. of 7 runs, 1000000 loops each)\n",
      "4.91 µs ± 35.2 ns per loop (mean ± std. dev. of 7 runs, 100000 loops each)\n"
     ]
    }
   ],
   "source": [
    "print('memory according to __sizeof__')\n",
    "print( np.float64(9876543210 ).__sizeof__() )\n",
    "print( mp.mpf(987654321).__sizeof__() )\n",
    "\n",
    "print( '\\n large argument: mpmath is 6x slower' )\n",
    "%timeit np.exp( -9876543210 )\n",
    "%timeit mp.exp( -9876543210 ) #-np.arange(999,1999) )\n",
    "\n",
    "print( '\\n small argument: mpmath is 14x slower' )\n",
    "%timeit np.exp( -1 )\n",
    "%timeit mp.exp( -1 ) #-np.arange(999,1999) )"
   ]
  },
  {
   "cell_type": "code",
   "execution_count": null,
   "metadata": {},
   "outputs": [],
   "source": []
  }
 ],
 "metadata": {
  "anaconda-cloud": {},
  "kernelspec": {
   "display_name": "Python 3",
   "language": "python",
   "name": "python3"
  },
  "language_info": {
   "codemirror_mode": {
    "name": "ipython",
    "version": 3
   },
   "file_extension": ".py",
   "mimetype": "text/x-python",
   "name": "python",
   "nbconvert_exporter": "python",
   "pygments_lexer": "ipython3",
   "version": "3.8.8"
  }
 },
 "nbformat": 4,
 "nbformat_minor": 4
}
