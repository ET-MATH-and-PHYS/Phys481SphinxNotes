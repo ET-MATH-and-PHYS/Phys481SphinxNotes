{
 "cells": [
  {
   "cell_type": "markdown",
   "metadata": {},
   "source": [
    "# What are we doing here?\n",
    "\n",
    "Why are we studying computational methods in physics?\n",
    "\n",
    "Start with the fact that mathematical models can be used to make remarkably accurate predictions about the physical universe.  \n",
    "\n",
    "Next, acknowledge that machines can now execute most mathematical operations much faster and more accurately than humans.  This allows us to model much larger and more complicated systems.\n",
    "\n",
    "However, the negative effect of errors can also be amplified enormously.  Proper application of good programming practices can help identify errors and reduce their impact.  Physical principles (ie. conservation laws) may also provide further constraints."
   ]
  },
  {
   "cell_type": "markdown",
   "metadata": {},
   "source": [
    "## Unreasonable Effectiveness\n",
    "\n",
    "http://links.uwaterloo.ca/amath731docs/wigner_unreasonable_effectiveness_1960.pdf\n",
    "\n",
    "http://faculty.cord.edu/andersod/wigner-hammingresponse.pdf\n",
    "\n",
    "\n",
    "<quote>\n",
    "Somehow the analytical tools introduced by Newton and his intellectual successors of the next three hundred years involve precisely the symbolic manipulations which create an accurately simulated picture of nature's workings. The precision of the simulation is impressive, as the calculation of processes like celestial motions and of quantities like the electron's magnetic moment convincingly demonstrates. \n",
    "    \n",
    "The success can possibly be explained by a deep parallelism\n",
    "of the algorithmics of physical laws with the evolutionary laws (the cosmic\n",
    "code) which nature follows. Such an explanation is tantamount to declaring\n",
    "that mathematico-physical thinking is discovering, as opposed to inventing,\n",
    "the Platonic algorithms which lie at the basis of nature. \n",
    "</quote>\n",
    "\n",
    "The unreasonable effectiveness of computer physics\n",
    "Joseph Dreitlein\n",
    "Foundations of Physics\n",
    "June 1993, Volume 23, Issue 6, pp 923–930 "
   ]
  },
  {
   "cell_type": "markdown",
   "metadata": {},
   "source": [
    "## The Turing Omnibus\n",
    "https://en.wikipedia.org/wiki/Turing_machine\n",
    "\n",
    "A programming language that is Turing complete is theoretically capable of expressing all tasks accomplishable by computers; nearly all programming languages are Turing complete if the limitations of finite memory are ignored.\n",
    "\n",
    "https://en.wikipedia.org/wiki/Analytical_Engine\n",
    "\n"
   ]
  },
  {
   "cell_type": "markdown",
   "metadata": {},
   "source": [
    "## Worse than failure\n",
    "\n",
    "Modern technological infrastructure depends on error-free computing.  When computer hardware or software fails the results can be catastrophic. There are several well-known cases where computer failure resulted in signicant material or financial losses.\n",
    "\n",
    "https://www.theverge.com/2019/5/2/18518176/boeing-737-max-crash-problems-human-error-mcas-faa\n",
    "\n",
    "https://bgr.com/2019/06/28/boeing-737-max-grounded-after-new-issue-flight-cancelations-extended/\n",
    "\n",
    "https://www.bugsnag.com/blog/bug-day-ariane-5-disaster\n",
    "\n",
    "https://www.bugsnag.com/blog/bug-day-mars-climate-orbiter\n",
    "\n",
    "https://www.bugsnag.com/blog/bug-day-460m-loss\n",
    "\n",
    "https://www.bugsnag.com/blog/bug-day-race-condition-therac-25\n",
    "\n",
    "http://www-users.math.umn.edu/~arnold/disasters/sleipner.html\n",
    "\n",
    "https://en.wikipedia.org/wiki/Pentium_FDIV_bug\n",
    "\n",
    "http://cs.furman.edu/digitaldomain/themes/risks/risks_numeric.htm\n",
    "\n",
    "It is extremely likely that there have been other major failures which were never made public.\n",
    "\n",
    "The integrated damage from enormous numbers of \"minor\" errors is terrifying to consider. \n",
    "\n",
    "\"How Many (software)  Defects Are Too Many?\"\n",
    "https://labs.sogeti.com/how-many-defects-are-too-many/\n",
    "\n",
    "Industry Average: about 15 – 50 errors per 1000 lines of delivered code.” This is known as the defects per KLOC (1000 lines of code).  He goes on to say that “Microsoft Applications: about 10 – 20 defects per 1000 lines of code during in-house testing, and 0.5 defect per KLOC in production.” It is possible to achieve zero defects but it is also costly. NASA was able to achieve zero defects for the Space Shuttle Software, but at a cost of thousands of dollars per line of code. If people will die because there are bugs in the software then that kind of cost makes sense. \n",
    "\n",
    "\"Gene name errors are widespread in the scientific literature\"\n",
    "https://genomebiology.biomedcentral.com/articles/10.1186/s13059-016-1044-7\n",
    "\n",
    "\"Reinhart, Rogoff... and Herndon: The student who caught out the profs\"\n",
    "https://www.bbc.com/news/magazine-22223190\n",
    "\n",
    "http://theconversation.com/the-reinhart-rogoff-error-or-how-not-to-excel-at-economics-13646\n",
    "\n",
    "https://en.wikipedia.org/wiki/Growth_in_a_Time_of_Debt\n",
    "\n",
    "https://paulromer.net/jupyter-mathematica-and-the-future-of-the-research-paper/#my-experience-with-mathematica\n",
    "\n",
    "\n",
    "Other mathematica errors?\n"
   ]
  },
  {
   "cell_type": "markdown",
   "metadata": {},
   "source": [
    "## Computing progress\n",
    "https://en.wikipedia.org/wiki/Moore%27s_law\n",
    "\n",
    "Moore's law proposes that the number of transistors in a dense integrated circuit doubles about every two years.\n",
    "\n",
    "https://en.wikipedia.org/wiki/File:Moore%27s_Law_Transistor_Count_1971-2018.png\n",
    "\n",
    "Consumer grade CPUs have almost as many transistors (3 billion) as there are neurons in the human brain (86 billion). \n",
    "All the computers engaged in this Zoom session combined have more transistors than the number of neurons in a your brain.\n",
    "Cutting edge super-computers have hundreds or thousands time more.\n",
    "\n",
    "\n",
    "### Too cheap to meter?\n",
    "Similar exponential trends are evident if we consider the cost of computing.\n",
    "\n",
    "Two Centuries of Productivity Growth in Computing\n",
    "WILLIAM D. NORDHAUS\n",
    "\n",
    "http://www.econ.yale.edu/~nordhaus/homepage/homepage/nordhaus_computers_jeh_2007.pdf    "
   ]
  },
  {
   "cell_type": "markdown",
   "metadata": {},
   "source": [
    "## Limits to growth\n",
    "\n",
    "If something cannot continue forever then it will stop. (Herbert Stein?)\n",
    "\n",
    "### Meta-Moore's rebuttal\n",
    "Discussions of Moore's law almost inevitably end up with a statement that we are approaching fundamental limits of classic silicon transistor based technology. This is usually followed by embarassing examples from the long history of incorrect predictions about the end of Moore's law.\n",
    "\n",
    "https://www.economist.com/the-economist-explains/2015/04/19/the-end-of-moores-law\n",
    "\n",
    "## Deep thought\n",
    "Assume that computational devices are made out of physical materials (eg. matter and energy).  We should then be able to use the laws of physics to determine capabilities of the ideal computer. \n",
    "\n",
    "\"Ultimate physical limits to computation\"\n",
    "https://arxiv.org/abs/quant-ph/9908043\n",
    "\n",
    "Nature — \"Ultimate Physical Limits to Computation\" (vol. 406, no. 6788, 31 August 2000, pp. 1047-1054) \n",
    "\n",
    "https://www.edge.org/conversation/seth_lloyd-how-fast-how-small-and-how-powerful"
   ]
  },
  {
   "cell_type": "markdown",
   "metadata": {},
   "source": [
    "## The singularity\n",
    "\n",
    "\n",
    "https://en.wikipedia.org/wiki/Technological_singularity\n",
    "\n",
    "https://io9.gizmodo.com/what-is-the-singularity-and-will-you-live-to-see-it-5534848\n",
    "\n",
    "Information technology and the future of economic growth.\n",
    "Are we approaching an economic singularity?\n",
    "By\n",
    "William D. Nordhaus\n",
    "September 2015\n",
    "\n",
    "https://cowles.yale.edu/sites/default/files/files/pub/d20/d2021.pdf\n",
    "\n",
    "Can we build AI without losing control over it? | Sam Harris\n",
    "\n",
    "https://www.youtube.com/watch?v=8nt3edWLgIg"
   ]
  },
  {
   "cell_type": "code",
   "execution_count": null,
   "metadata": {},
   "outputs": [],
   "source": []
  }
 ],
 "metadata": {
  "kernelspec": {
   "display_name": "Python 3",
   "language": "python",
   "name": "python3"
  },
  "language_info": {
   "codemirror_mode": {
    "name": "ipython",
    "version": 3
   },
   "file_extension": ".py",
   "mimetype": "text/x-python",
   "name": "python",
   "nbconvert_exporter": "python",
   "pygments_lexer": "ipython3",
   "version": "3.8.5"
  }
 },
 "nbformat": 4,
 "nbformat_minor": 2
}
