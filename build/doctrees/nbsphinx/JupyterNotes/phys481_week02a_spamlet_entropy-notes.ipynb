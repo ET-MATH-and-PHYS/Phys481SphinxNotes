{
 "cells": [
  {
   "cell_type": "markdown",
   "metadata": {},
   "source": [
    "# Bernoulli, entropy and spamlet  "
   ]
  },
  {
   "cell_type": "code",
   "execution_count": 2,
   "metadata": {},
   "outputs": [],
   "source": [
    "# load modules for math and plotting\n",
    "import numpy as np\n",
    "import matplotlib.pyplot as plt\n",
    "%matplotlib inline\n",
    "\n",
    "# seaborn plots look a bit nicer than default matplotlib\n",
    "#\n",
    "#import seaborn as sns\n",
    "#sns.set(palette=\"bright\")"
   ]
  },
  {
   "cell_type": "markdown",
   "metadata": {},
   "source": [
    "## Probability\n",
    "\n",
    "A random Bernoulli (binary) process has only two possible outcomes; these are often labelled as True,False or 0, 1. One well-known example of such a process is flipping a coin to obtain either heads (H) or tails (T).\n",
    "The probability of getting a given outcome $i$ is usually represented as $p_i$.  \n",
    "By definition, the total probability of all possible outcomes must always add up to one\n",
    "\n",
    " $$ \\sum p_i = p_H + p_T = 1 $$\n",
    "\n",
    "In other words: only one outcome can occur, and one outcome must occur.  \n",
    "\n",
    "For a perfectly \"fair\" coin the probabilities are equal\n",
    "\n",
    " $$ p_H = p_T = 0.5 $$\n",
    "\n",
    "In classical probability theory, these events can be simple or compound. If there are $\\Omega$ possible outcomes for a simple event, then $p_i=1/\\Omega$ for all $i$. For example, if you flip a (fair) coin once ($\\Omega = 2$), then the probability of obtaining heads or tails is $1/2$. If you flip four coins (or one coin 4 times), then $\\Omega=2^4$ because the outcome probabilities for each flip are totally independent of other outcomes. We say that the system has no memory, and most physical systems are like this.\n",
    "\n",
    "In statistical mechanics, the outcome of a possibly compound event like this is called a microstate. The ergodic hypothesis states that given a sufficiently long time, all microstates will be observed and all points in event space will be accessed. This is the (unproven!) foundation of statistical mechanics."
   ]
  },
  {
   "cell_type": "markdown",
   "metadata": {},
   "source": [
    "## numpy.random\n",
    "\n",
    "Many useful tools for generating random numbers are located in the \"numpy.random\" module.  We start by considering the `rand` function which provides samples from a uniform distribution \n",
    "\n",
    "<blockquote>\n",
    "Create an array of the given shape and populate it with\n",
    "random samples from a uniform distribution\n",
    "over ``[0, 1)``\n",
    "</blockquote>\n",
    "    \n",
    "This module can be loaded independently\n",
    "\n",
    "      import numpy.random as nprand\n",
    "    \n",
    "or accessed as part of numpy.  \n",
    "\n",
    "For example, we can generate 9 random numbers that should be distributed uniformly between 0 (inclusive) and 1.0 (exclusive)."
   ]
  },
  {
   "cell_type": "code",
   "execution_count": 3,
   "metadata": {},
   "outputs": [
    {
     "data": {
      "text/plain": [
       "array([0.0384657 , 0.7899211 , 0.23178687, 0.44411009, 0.07126211,\n",
       "       0.64630625, 0.97677999, 0.95698297, 0.06512445])"
      ]
     },
     "execution_count": 3,
     "metadata": {},
     "output_type": "execute_result"
    }
   ],
   "source": [
    "# Create an array of the given shape and populate it with \n",
    "#random samples from a uniform distribution over [0, 1).\n",
    "np.random.rand(9)"
   ]
  },
  {
   "cell_type": "markdown",
   "metadata": {},
   "source": [
    "Other distributions (ie. binomial, Gaussian) can be simulated by starting with a uniform distribution and applying an appropriate transformation of variables.  The numpy.random module also includes convenient routines for obtaining random numbers from many useful distributions.   Although the Bernoulli distribution is not provided explicitly, there are several methods which can be used to produce binary random numbers.\n",
    "\n",
    "One approach is to generate  floating point uniform random values and map numbers greater than 0.5 onto `1` and less than 0.5 onto `0`."
   ]
  },
  {
   "cell_type": "code",
   "execution_count": 33,
   "metadata": {},
   "outputs": [
    {
     "name": "stdout",
     "output_type": "stream",
     "text": [
      "True, True, True, False, True, False, True, False, True, \n",
      "\n",
      "[True, True, True, False, True, False, True, False, True] \n",
      "\n",
      "[ True  True  True False  True False  True False  True]\n"
     ]
    }
   ],
   "source": [
    "coinflip = np.random.rand(9)\n",
    "\n",
    "# loop over each element one after another\n",
    "#\n",
    "for item in coinflip:\n",
    "    print( item > 0.5 , end=', ', flush=True )\n",
    "print( '\\n' )\n",
    "    \n",
    "# list comprehension is a more compact way to loop\n",
    "#\n",
    "print( [item > 0.5 for item in coinflip], '\\n' )\n",
    "\n",
    "# numpy \n",
    "#\n",
    "print( coinflip > 0.5 )"
   ]
  },
  {
   "cell_type": "markdown",
   "metadata": {},
   "source": [
    "The third approach will produce a numpy `ndarray` which can have one or more elements all with the same type of `boolean`.  The `__sizeof__` method can be used to determine the amount of memory (in bytes) required to store each element.  Although we might expect that a boolean value could be represented using a single bit, there is considerable overhead required to store a python object."
   ]
  },
  {
   "cell_type": "code",
   "execution_count": 34,
   "metadata": {},
   "outputs": [
    {
     "name": "stdout",
     "output_type": "stream",
     "text": [
      "type:  <class 'numpy.ndarray'>\n",
      "element type:  <class 'numpy.bool_'>\n"
     ]
    }
   ],
   "source": [
    "a = ( np.random.rand(9) > 0.5 )\n",
    "print('type: ', type(a) )\n",
    "print('element type: ', type(a[0]) )"
   ]
  },
  {
   "cell_type": "code",
   "execution_count": 35,
   "metadata": {},
   "outputs": [
    {
     "name": "stdout",
     "output_type": "stream",
     "text": [
      "element size:  25\n",
      "element attributes:  ['T', '__abs__', '__add__', '__and__'] ... ['trace', 'transpose', 'var', 'view']\n"
     ]
    }
   ],
   "source": [
    "print('element size: ', a[0].__sizeof__() )\n",
    "print( 'element attributes: ',  dir(a)[0:4], '...', dir(a)[-4:] )"
   ]
  },
  {
   "cell_type": "markdown",
   "metadata": {},
   "source": [
    "### Discussion\n",
    "Should we instead use a slightly different comparison operator?"
   ]
  },
  {
   "cell_type": "code",
   "execution_count": 36,
   "metadata": {},
   "outputs": [
    {
     "name": "stdout",
     "output_type": "stream",
     "text": [
      "[False False  True  True  True  True False  True  True]\n"
     ]
    }
   ],
   "source": [
    "print( np.random.rand(9) >= 0.5 )"
   ]
  },
  {
   "cell_type": "markdown",
   "metadata": {},
   "source": [
    "### (in)consistent calling conventions\n",
    "Another option is to use the \"randint\" function.  Remember that information about python modules and functions can be found in several different ways eg.\n",
    "\n",
    "    help(numpy.randint)\n",
    "    ?(numpy.randint)\n",
    "    dir(numpy.randint)\n",
    "\n",
    "        Help on package numpy.random in numpy:\n",
    "\n",
    "        NAME\n",
    "            numpy.random\n",
    "\n",
    "        DESCRIPTION\n",
    "            ========================\n",
    "            Random Number Generation\n",
    "            ========================"
   ]
  },
  {
   "cell_type": "code",
   "execution_count": 37,
   "metadata": {},
   "outputs": [
    {
     "name": "stdout",
     "output_type": "stream",
     "text": [
      "[0 0 0 0 0 0 0 0 0] <==== only zeros\n",
      "[1 0 0 0 0 0 0 1 0]\n",
      "[1 1 0 1 0 0 0 0 0]\n"
     ]
    }
   ],
   "source": [
    "# Return random integers from `low` (inclusive) to `high` (exclusive).\n",
    "\n",
    "# Calling \"randint\" with low=0 and high=1 does not produce a random\n",
    "# sequence of 1's and 0's.\n",
    "#\n",
    "print( np.random.randint(low=0, high=1, size=9 ), '<==== only zeros' )\n",
    "\n",
    "# Instead, the function is written to follow the python convention\n",
    "# where the upper limit is excluded.\n",
    "#\n",
    "print( np.random.randint(low=0, high=2, size=9 ) )\n",
    "\n",
    "#\n",
    "#\n",
    "print( np.random.randint(2, size=9 ) )"
   ]
  },
  {
   "cell_type": "markdown",
   "metadata": {},
   "source": [
    "I think a case could be made that this calling convention violates the \"Principle of Least Astonishment\"\n",
    "\n",
    "      https://en.wikipedia.org/wiki/Principle_of_least_astonishment\n",
    "\n",
    "which is basically that a system should behave in a manner consistent with how users are likely to expect it to behave; that is, users should not be astonished at the way it interprets input or provides output.\n",
    "\n",
    "On the other hand, one could also argue that the exclusive upper bound is very pythonic (ie. commonly used in python).  Also note that other languages also use the exclusive upper bound ie.\n",
    "\n",
    "      https://stackoverflow.com/questions/363681/how-do-i-generate-random-integers-within-a-specific-range-in-java?rq=1\n",
    "\n",
    "\n",
    "In Java 1.7 or later, the standard way to do this is:\n",
    "\n",
    "    import java.util.concurrent.ThreadLocalRandom;\n",
    "\n",
    "        // nextInt is normally exclusive of the top value,\n",
    "        // so add 1 to make it inclusive\n",
    "        int randomNum = ThreadLocalRandom.current().nextInt(min, max + 1);"
   ]
  },
  {
   "cell_type": "markdown",
   "metadata": {},
   "source": [
    "Conclusion: ensure that your expectations are consistent with how your tools actually work.\n",
    "\n",
    "Note: There is currently a `numpy.random.random_integers` function that behaves the other way.  Sadly, it appears to be deprecated and may not be supported in future versions of numpy."
   ]
  },
  {
   "cell_type": "code",
   "execution_count": 6,
   "metadata": {},
   "outputs": [
    {
     "name": "stdout",
     "output_type": "stream",
     "text": [
      "[1 0 0 0 0 1 1 1 1]\n"
     ]
    },
    {
     "name": "stderr",
     "output_type": "stream",
     "text": [
      "C:\\Users\\bjackel\\Miniconda3\\lib\\site-packages\\ipykernel_launcher.py:2: DeprecationWarning: This function is deprecated. Please call randint(0, 1 + 1) instead\n",
      "  \n"
     ]
    }
   ],
   "source": [
    "# Return random integers of type np.int from the “discrete uniform” distribution in the closed interval [low, high]\n",
    "print( np.random.random_integers(low=0, high=1, size=9 ) )"
   ]
  },
  {
   "cell_type": "markdown",
   "metadata": {},
   "source": [
    "Perhaps the best alternative is provided by `numpy.random.choice` which has a clear calling convention and can be used for more general applications."
   ]
  },
  {
   "cell_type": "code",
   "execution_count": 7,
   "metadata": {},
   "outputs": [
    {
     "name": "stdout",
     "output_type": "stream",
     "text": [
      "[0 0 0 1 1 0 0 0 0]\n",
      "['maybe' 'maybe' 'yes' 'maybe' 'maybe' 'no' 'maybe' 'no' 'maybe']\n"
     ]
    }
   ],
   "source": [
    "print( np.random.choice([0,1], size=9, p=[0.5, 0.5] ) )\n",
    "print( np.random.choice(['yes', 'maybe', 'no'], size=9, p=[0.25, 0.5, 0.25] ) )"
   ]
  },
  {
   "cell_type": "markdown",
   "metadata": {},
   "source": [
    "## Entropy and Information\n",
    "\n",
    "A sequence of numbers might be thought of as random if each successive observation is \"surprising\" or communicates additional information beyond what was provided by the previous ones.  \n",
    "\n",
    "For example, after seeing the first few symbols (values) in this sequence\n",
    "\n",
    " $$\\{0,0,0,0,0,0,0,0 \\ldots\\}$$\n",
    "\n",
    "we can make a pretty good guess about the next value, but for this sequence\n",
    "\n",
    "$$\\{0,1,0,0,1,1,0,1 \\ldots\\}$$\n",
    "\n",
    "it is not obvious what the next few values are likely to be.\n",
    "\n",
    "<img src=\"https://assets.amuniversal.com/321a39e06d6401301d80001dd8b71c47\" />\n",
    "\n",
    "\n",
    "\n",
    "\n"
   ]
  },
  {
   "cell_type": "markdown",
   "metadata": {},
   "source": [
    "### Shannon entropy\n",
    "\n",
    "A quantitative definition of entropy introduced by Shannon[1948]\n",
    "\n",
    "$$  H = -\\sum_{i=1}^n p_i \\; log{p_i} $$\n",
    "\n",
    "has a familiar physical analog in statistical mechanics and allows us to determine the maximum amount of information that can be transmitted over a noisy digital communication channel."
   ]
  },
  {
   "cell_type": "markdown",
   "metadata": {},
   "source": [
    "The logarithm is often taken with base 2\n",
    "\n",
    "$$  H = -\\sum_{i=1}^n p_i \\; log_2{p_i} = -\\frac{1}{\\ln 2} \\,\\sum_{i=1}^n p_i \\; \\ln{p_i} $$\n",
    "\n",
    "to produce a result in terms of bits per symbol. Some properties of the entropy are\n",
    "\n",
    "1) $H(p_1,\\ldots,p_N)$ is a concave function of the $p_i$. \n",
    "\n",
    "2) for a given $N$, the uniform distribution $p_i=1/N$ has the maximum entropy $H$. \n",
    "\n",
    "3) $H(p_1,\\ldots,p_N)$ is zero if and only if one of the $p_i=1$.  In other words, if there is only one possible outcome then no new information is provided by observing that event. \n",
    "\n"
   ]
  },
  {
   "cell_type": "markdown",
   "metadata": {},
   "source": [
    "We can easily prove that the Shannon entropy is a maximum when all the probabilities are equal, $p_i=1/N$, corresponding to the classical limit of simple events.\n",
    "\n",
    "\\begin{eqnarray}\n",
    "\\frac{\\partial}{\\partial p_j}H&=&\\frac{\\partial}{\\partial p_j}\\left[-\\sum_ip_i\\ln(p_i)\\right]\\\\\n",
    "&=&\\frac{\\partial}{\\partial p_j}\\left[p_1\\ln(p_1)+\\ldots+p_j\\ln(p_j)+\\ldots+(1-p_1-\\ldots-p_j-\\ldots-p_{N-1})\\ln(1-p_1-\\ldots-p_j-\\ldots-p_{N-1})\\right],\n",
    "\\end{eqnarray}\n",
    "\n",
    "where the second line uses the fact that the $p_i$s are not independent (for example $p_1+p_2=1$). So\n",
    "\n",
    "\\begin{eqnarray}\n",
    "\\frac{\\partial}{\\partial p_j}H&=&\\left[\\ln(p_j)+1-\\ln(1-p_1-\\ldots-p_j-\\ldots-p_{N-1})-1\\right].\\\\\n",
    "\\end{eqnarray}\n",
    "\n",
    "Setting this to zero gives\n",
    "\n",
    "$$p_j=1-p_1-\\ldots-p_j-\\ldots-p_{N-1},$$\n",
    "\n",
    "but because the right hand side is the probability for any other outcome, $p_j=p_i=1/N$ for all $i,j$, so all the probabilities are equal. The maximum entropy is therefore\n",
    "\n",
    "$$H_{\\rm max}=\\frac{N}{N}\\ln\\left(\\frac{1}{N}\\right)=\\ln(N).$$\n",
    "\n",
    "And we're back to where we started, under the assumption that $\\Omega=N$ for simple events.\n",
    "\n"
   ]
  },
  {
   "cell_type": "markdown",
   "metadata": {},
   "source": [
    "### Bernoulli process\n",
    "\n",
    "A Bernoulli (binary) process has two discrete outcomes (eg. true and false) that occur with probability $p$ and $q=1-p$.  The entropy of this process\n",
    "\n",
    "$$  H(p) = -p\\,\\log(p) - q\\,\\log(q) = -p\\,\\log(p) - (1-p)\\,\\log(1-p) $$\n",
    "\n",
    "has a maximum of 1 bit per outcome\n",
    "\n",
    " $$  {{\\partial H(p)}\\over{\\partial p}} = -\\left[ \\log p + {p \\over p} - \\log[1-p] - {{1-p}\\over{1-p}} \\right] \n",
    "  = -\\log p + \\log(1-p) = 0 $$\n",
    "\n",
    "$$  \\exp\\left(\\log p\\right) = \\exp\\left(\\log(1-p)\\right)  \\qquad\\Rightarrow\\qquad p=1-p $$\n",
    "\n",
    "at $p=q=0.5$ where the outcome of this system is least predictable.  As shown in the following example the entropy is zero at the endpoints $p=q=0$ where the outcome is totally predictable."
   ]
  },
  {
   "cell_type": "markdown",
   "metadata": {},
   "source": [
    "### Efficient encoding\n",
    "\n",
    "Shannon derived an expression for entropy a completely different way. Suppose that we have a radio antenna that broadcasts digital signals\n",
    "encoded in the bitstrings $X_1,\\;X_2,\\;\\ldots X_m$, where for example $X_1=0110010111\\ldots$. The question Shannon posed is: what are the resources required to represent all of these bitstrings? An alternative way of asking the question is: how much memory is required to store all of the bitstrings? Shannon found that the quantity $H(X)$, now called the Shannon entropy, gives the mean number of bits per string required. This expression is also referred to as Shannon's lossless coding theorem.\n",
    "\n",
    "Consider a concrete example. Suppose that the antenna broadcasts the four numbers 0, 1, 2, and 3, all with probablity 1/4. Then you could store all four digits efficiently using the binary representation 00, 01, 10, and 11. This requires two bits, which should also coincide with Shannon entropy:\n",
    "\n",
    "$$H(0,1,2,3)=-\\frac{1}{4}\\log_2\\left(\\frac{1}{4}\\right)*4=\\log_2(4)=2\\log_2(2)=2,$$\n",
    "\n",
    "as expected.\n",
    "\n",
    "Now instead suppose that the four numbers are broadcast with probabilities $1/2$, $1/4$, $1/8$, and $1/8$, respectively. Can we be more efficient with the encoding of the four numbers , to minimize (on average) the total number of bits we need to transmit / store? The Shannon entropy suggests that we only need an average bitstring length of \n",
    "\n",
    "$$H(0,1,2,3)=-\\frac{1}{2}\\log_2\\left(\\frac{1}{2}\\right)-\\frac{1}{4}\\log_2\\left(\\frac{1}{4}\\right)-(2)\\frac{1}{8}\\log_2\\left(\\frac{1}{8}\\right)=\\frac{1}{2}+\\frac{2}{4}+\\frac{6}{8}=\\frac{14}{8}=1\\frac{3}{4}$$\n",
    "\n",
    "bits, which is less than 2. "
   ]
  },
  {
   "cell_type": "markdown",
   "metadata": {},
   "source": [
    "### Gibbs entropy formula\n",
    "\n",
    "    https://en.wikipedia.org/wiki/Entropy_(statistical_thermodynamics)\n",
    "    \n",
    "The macroscopic state of a system is characterized by a distribution on the microstates. The entropy of this distribution is given by the Gibbs entropy formula, named after J. Willard Gibbs. For a classical system (i.e., a collection of classical particles) with a discrete set of microstates, if $E_{i}$ is the energy of microstate i, and $p_i$ is the probability that it occurs during the system's fluctuations, then the entropy of the system is\n",
    "\n",
    "$$S=-k_{{\\text{B}}}\\,\\sum _{i}p_{i}\\ln \\,p_{i}$$\n",
    "\n",
    "This S is almost universally called simply the entropy. It can also be called the statistical entropy or the thermodynamic entropy without changing the meaning."
   ]
  },
  {
   "cell_type": "code",
   "execution_count": 38,
   "metadata": {},
   "outputs": [
    {
     "name": "stderr",
     "output_type": "stream",
     "text": [
      "<ipython-input-38-1bbd82c9c517>:8: RuntimeWarning: divide by zero encountered in log\n",
      "  H = -p*np.log(p) - (1-p)*np.log(1-p)\n",
      "<ipython-input-38-1bbd82c9c517>:8: RuntimeWarning: invalid value encountered in multiply\n",
      "  H = -p*np.log(p) - (1-p)*np.log(1-p)\n"
     ]
    },
    {
     "data": {
      "image/png": "[encoded data removed]",
      "text/plain": [
       "<Figure size 432x288 with 1 Axes>"
      ]
     },
     "metadata": {
      "needs_background": "light"
     },
     "output_type": "display_data"
    }
   ],
   "source": [
    "import numpy as np\n",
    "import matplotlib.pyplot as plt\n",
    "%matplotlib inline\n",
    "#import seaborn as sns\n",
    "#sns.set() #\"bright\")\n",
    "\n",
    "p = np.arange(0.00, 1.00, 0.001)\n",
    "H = -p*np.log(p) - (1-p)*np.log(1-p)\n",
    "plt.plot(p,H/np.log(2.0))\n",
    "plt.xlabel('probability')\n",
    "plt.ylabel('Entropy  [bits]')\n",
    "plt.title('Bernoulli process')\n",
    "plt.grid(True)"
   ]
  },
  {
   "cell_type": "markdown",
   "metadata": {},
   "source": [
    "## Monkey Shakespeare\n",
    "\n",
    "<img src=\"https://upload.wikimedia.org/wikipedia/commons/3/3c/Chimpanzee_seated_at_typewriter.jpg\" />\n",
    "\n",
    "https://en.wikipedia.org/wiki/Infinite_monkey_theorem\n",
    "\n",
    "The infinite monkey theorem states that a monkey hitting keys at random on a typewriter keyboard for an infinite amount of time will almost surely type any given text, such as the complete works of William Shakespeare. In fact the monkey would almost surely type every possible finite text an infinite number of times. However, the probability of a universe full of monkeys typing a complete work such as Shakespeare's Hamlet is so tiny that the chance of it occurring during a period of time hundreds of thousands of orders of magnitude longer than the age of the universe is extremely low (but technically not zero).\n",
    "\n",
    "In this context, \"almost surely\" is a mathematical term with a precise meaning, and the \"monkey\" is not an actual monkey, but a metaphor for an abstract device that produces an endless random sequence of letters and symbols. One of the earliest instances of the use of the \"monkey metaphor\" is that of French mathematician Émile Borel in 1913,[1] but the first instance may be even earlier.\n",
    "\n",
    "Variants of the theorem include multiple and even infinitely many typists, and the target text varies between an entire library and a single sentence. Jorge Luis Borges traced the history of this idea from Aristotle's On Generation and Corruption and Cicero's De natura deorum (On the Nature of the Gods), through Blaise Pascal and Jonathan Swift, up to modern statements with their iconic simians and typewriters. In the early 20th century, Borel and Arthur Eddington used the theorem to illustrate the timescales implicit in the foundations of statistical mechanics.\n",
    "\n",
    "<img src=\"http://minnov8.com/site/wp-content/uploads/2013/11/monkey-cartoon.jpg\">"
   ]
  },
  {
   "cell_type": "code",
   "execution_count": 39,
   "metadata": {},
   "outputs": [
    {
     "name": "stdout",
     "output_type": "stream",
     "text": [
      "Full quote:  To be, or not to be? That is the question—\n",
      "Simplified quote:  to be or not to be that is the question\n",
      "Length of simplified quote:  39\n",
      "Unique characters:   abehinoqrstu\n",
      "Number of unique characters:  13\n",
      "Number of  39  character combinations of 27 possibilities:  66555937033867822607895549241096482953017615834735226163\n",
      "Probability of typing \"to be...\" at random:  1.5024955617274797e-56\n"
     ]
    }
   ],
   "source": [
    "# Start with the classic quote,\n",
    "#\n",
    "full_quote = 'To be, or not to be? That is the question—'\n",
    "print('Full quote: ', full_quote)\n",
    "\n",
    "# Simplify by stripping punctuation and converting to lower case.\n",
    "#\n",
    "charlist = [c.lower() for c in full_quote if c.isalpha() or c==' ']\n",
    "print('Simplified quote: ', ''.join(charlist) )\n",
    "print('Length of simplified quote: ', len(charlist) )\n",
    "\n",
    "# Get a list of the unique characters along with \"lookup\" index\n",
    "# where each element points to the corresponding unique character.\n",
    "#\n",
    "uchars, uindx, ucounts= np.unique(charlist, return_inverse=True, return_counts=True)\n",
    "print('Unique characters: ', ''.join( uchars ) )\n",
    "print('Number of unique characters: ', len(uchars) )\n",
    "\n",
    "nchars = len(charlist)\n",
    "print('Number of ', str(nchars), ' character combinations of 27 possibilities: ', 27**nchars)\n",
    "print('Probability of typing \"to be...\" at random: ', 27**-nchars)"
   ]
  },
  {
   "cell_type": "code",
   "execution_count": 10,
   "metadata": {},
   "outputs": [
    {
     "name": "stdout",
     "output_type": "stream",
     "text": [
      "Entropy of uniform channel [bits per key] 4.754887502163469\n"
     ]
    }
   ],
   "source": [
    "\"\"\"\n",
    "What is the entropy (in bits per symbol) for a uniform 27-key typewriter?\n",
    "\"\"\"\n",
    "\n",
    "p27 = 1.0/27.0 * np.ones(27)\n",
    "entropy =  -np.sum(np.log2(p27) * p27)\n",
    "print('Entropy of uniform channel [bits per key]', entropy )"
   ]
  },
  {
   "cell_type": "code",
   "execution_count": 11,
   "metadata": {},
   "outputs": [],
   "source": [
    "# So how long will it take a monkey to type Hamlet?\n",
    "\n",
    "# Don't pull the same file every time!  Make a local copy to reduce\n",
    "# traffic and be able to keep working if network not available or\n",
    "# file is moved.\n",
    "#\n",
    "import urllib.request\n",
    "url = r'http://www.gutenberg.org/files/1524/1524-0.txt'\n",
    "bytedata = urllib.request.urlopen( url ).read()\n",
    "\n",
    "# Get a local copy with browser or \"wget\" command."
   ]
  },
  {
   "cell_type": "code",
   "execution_count": 12,
   "metadata": {},
   "outputs": [
    {
     "name": "stdout",
     "output_type": "stream",
     "text": [
      "\n",
      "Project Gutenberg EBook of Hamlet, by William Shakespeare\n",
      "\n",
      "This eBook is for the use of anyo\n"
     ]
    }
   ],
   "source": [
    "# Note that the file contains a preamble about the text (metadata).\n",
    "# A more careful analysis might remove all this, but for simplicity \n",
    "# we will ignore this detail.\n",
    "#\n",
    "#bytedata[0:9].decode('ascii')\n",
    "print( bytedata[3:99].decode('ascii') )"
   ]
  },
  {
   "cell_type": "code",
   "execution_count": 13,
   "metadata": {},
   "outputs": [],
   "source": [
    "#import urllib.request\n",
    "##url = r'http://www.gutenberg.org/cache/epub/1524/pg1524.txt'\n",
    "#url = r'http://www.gutenberg.org/files/1524/1524-0.txt'\n",
    "#with urllib.request.urlopen( url ) as response:\n",
    "#   data = response.read()\n",
    "\n",
    "#print(html) #html.decode()"
   ]
  },
  {
   "cell_type": "code",
   "execution_count": 14,
   "metadata": {},
   "outputs": [
    {
     "name": "stdout",
     "output_type": "stream",
     "text": [
      "Length of simplified Hamlet:  181732\n",
      "{'p': 2462, 'r': 9139, 'o': 12856, 'j': 200, 'e': 17565, 'c': 3409, 't': 14066, ' ': 31720, 'g': 2849, 'u': 4983, 'n': 9739, 'b': 2110, 'k': 1415, 'f': 3124, 'h': 9245, 'a': 11324, 'm': 4644, 'l': 6862, 'y': 3554, 'w': 3425, 'i': 10005, 's': 9450, 'd': 5674, 'v': 1347, 'x': 206, 'æ': 1, 'q': 230, 'z': 127, 'à': 1}\n"
     ]
    }
   ],
   "source": [
    "# Change bytes to characters\n",
    "# +ignore the first 4 \"magic\" bytes (file type)\n",
    "# +ignore everything except a-z and spaces\n",
    "# +change all letters to lower case\n",
    "#\n",
    "data = bytedata.decode() #'utf-8')\n",
    "charlist = [c.lower() for c in data if c.isalpha() or c==' ']\n",
    "print('Length of simplified Hamlet: ', len(charlist) )\n",
    "\n",
    "# This is one way to count how many times each letter occurs.\n",
    "# Using numpy might be faster, but this is easy to understand.\n",
    "#\n",
    "catalog = {}\n",
    "for symbol in charlist:\n",
    "    \n",
    "    if symbol in catalog:\n",
    "        catalog[symbol] += 1  #increment\n",
    "    else:\n",
    "        catalog[symbol] = 1  # initialize\n",
    "        \n",
    "print( catalog ) "
   ]
  },
  {
   "cell_type": "markdown",
   "metadata": {},
   "source": [
    "### Question \\#1: what is the entropy of \"simplified Hamlet\" (Spamlet) in bits per character?\n",
    "    \n",
    "### Question \\#2: what is the probability that a monkey typing 167774 characters with a uniform random selection of 27-keys would produce Spamlet?  In other words, how many different sequences with 167774 characters are there?\n",
    "\n",
    "### Question \\#3: how does the probability change if the chance of hitting any given key was not 1/27, but the same as the actual distribution of Spamlet?\n",
    "\n",
    "### Question \\#4: determine the joint probability of each 2-key sequence eg. 'aa', 'ab', 'ac' from Spamlet.  How does the probability of producing Spamlet change if the monkey hits keys according to this distribution?\n",
    "\n",
    "### Question \\#5: calculate the entropy of  2-key sequences for Spamlet, and then for entire words.\n",
    "\n",
    "### Optional Question \\#6: write a program to generate sequences of text that sound somewhat like Shakespeare.  See for inspiration http://www.elsewhere.org/journal/pomo/ "
   ]
  },
  {
   "cell_type": "code",
   "execution_count": 15,
   "metadata": {},
   "outputs": [
    {
     "ename": "NameError",
     "evalue": "name 'numpy' is not defined",
     "output_type": "error",
     "traceback": [
      "\u001b[1;31m---------------------------------------------------------------------------\u001b[0m",
      "\u001b[1;31mNameError\u001b[0m                                 Traceback (most recent call last)",
      "\u001b[1;32m<ipython-input-15-a2d0cdb4e143>\u001b[0m in \u001b[0;36m<module>\u001b[1;34m\u001b[0m\n\u001b[1;32m----> 1\u001b[1;33m \u001b[0mrandom_seed\u001b[0m \u001b[1;33m=\u001b[0m \u001b[0mnumpy\u001b[0m\u001b[1;33m.\u001b[0m\u001b[0mrandom\u001b[0m\u001b[1;33m.\u001b[0m\u001b[0mseed\u001b[0m\u001b[1;33m(\u001b[0m\u001b[0mseed\u001b[0m\u001b[1;33m=\u001b[0m\u001b[1;36m1\u001b[0m\u001b[1;33m)\u001b[0m\u001b[1;33m\u001b[0m\u001b[1;33m\u001b[0m\u001b[0m\n\u001b[0m\u001b[0;32m      2\u001b[0m \u001b[0mprint\u001b[0m\u001b[1;33m(\u001b[0m \u001b[0mrandom_seed\u001b[0m \u001b[1;33m)\u001b[0m\u001b[1;33m\u001b[0m\u001b[1;33m\u001b[0m\u001b[0m\n\u001b[0;32m      3\u001b[0m \u001b[0mprint\u001b[0m\u001b[1;33m(\u001b[0m \u001b[0mnumpy\u001b[0m\u001b[1;33m.\u001b[0m\u001b[0mrandom\u001b[0m\u001b[1;33m.\u001b[0m\u001b[0mchoice\u001b[0m\u001b[1;33m(\u001b[0m\u001b[1;33m[\u001b[0m\u001b[1;36m0\u001b[0m\u001b[1;33m,\u001b[0m\u001b[1;36m1\u001b[0m\u001b[1;33m]\u001b[0m\u001b[1;33m,\u001b[0m \u001b[0msize\u001b[0m\u001b[1;33m=\u001b[0m\u001b[1;36m9\u001b[0m\u001b[1;33m,\u001b[0m \u001b[0mp\u001b[0m\u001b[1;33m=\u001b[0m\u001b[1;33m[\u001b[0m\u001b[1;36m0.5\u001b[0m\u001b[1;33m,\u001b[0m \u001b[1;36m0.5\u001b[0m\u001b[1;33m]\u001b[0m \u001b[1;33m)\u001b[0m \u001b[1;33m)\u001b[0m\u001b[1;33m\u001b[0m\u001b[1;33m\u001b[0m\u001b[0m\n\u001b[0;32m      4\u001b[0m \u001b[0mprint\u001b[0m\u001b[1;33m(\u001b[0m \u001b[0mnumpy\u001b[0m\u001b[1;33m.\u001b[0m\u001b[0mrandom\u001b[0m\u001b[1;33m.\u001b[0m\u001b[0mchoice\u001b[0m\u001b[1;33m(\u001b[0m\u001b[1;33m[\u001b[0m\u001b[1;36m0\u001b[0m\u001b[1;33m,\u001b[0m\u001b[1;36m1\u001b[0m\u001b[1;33m]\u001b[0m\u001b[1;33m,\u001b[0m \u001b[0msize\u001b[0m\u001b[1;33m=\u001b[0m\u001b[1;36m9\u001b[0m\u001b[1;33m,\u001b[0m \u001b[0mp\u001b[0m\u001b[1;33m=\u001b[0m\u001b[1;33m[\u001b[0m\u001b[1;36m0.5\u001b[0m\u001b[1;33m,\u001b[0m \u001b[1;36m0.5\u001b[0m\u001b[1;33m]\u001b[0m \u001b[1;33m)\u001b[0m \u001b[1;33m)\u001b[0m\u001b[1;33m\u001b[0m\u001b[1;33m\u001b[0m\u001b[0m\n\u001b[0;32m      5\u001b[0m \u001b[1;33m\u001b[0m\u001b[0m\n",
      "\u001b[1;31mNameError\u001b[0m: name 'numpy' is not defined"
     ]
    }
   ],
   "source": [
    "random_seed = numpy.random.seed(seed=1)\n",
    "print( random_seed )\n",
    "print( numpy.random.choice([0,1], size=9, p=[0.5, 0.5] ) )\n",
    "print( numpy.random.choice([0,1], size=9, p=[0.5, 0.5] ) )\n",
    "\n",
    "numpy.random.seed(seed=1)\n",
    "print( numpy.random.choice([0,1], size=9, p=[0.5, 0.5] ) )"
   ]
  }
 ],
 "metadata": {
  "anaconda-cloud": {},
  "kernelspec": {
   "display_name": "Python 3",
   "language": "python",
   "name": "python3"
  },
  "language_info": {
   "codemirror_mode": {
    "name": "ipython",
    "version": 3
   },
   "file_extension": ".py",
   "mimetype": "text/x-python",
   "name": "python",
   "nbconvert_exporter": "python",
   "pygments_lexer": "ipython3",
   "version": "3.8.5"
  }
 },
 "nbformat": 4,
 "nbformat_minor": 4
}
